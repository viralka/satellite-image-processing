{
  "nbformat": 4,
  "nbformat_minor": 0,
  "metadata": {
    "colab": {
      "provenance": [],
      "include_colab_link": true
    },
    "kernelspec": {
      "name": "python3",
      "display_name": "Python 3"
    },
    "language_info": {
      "name": "python"
    }
  },
  "cells": [
    {
      "cell_type": "markdown",
      "metadata": {
        "id": "view-in-github",
        "colab_type": "text"
      },
      "source": [
        "<a href=\"https://colab.research.google.com/github/viralka/satellite-image-processing/blob/main/test_aws.ipynb\" target=\"_parent\"><img src=\"https://colab.research.google.com/assets/colab-badge.svg\" alt=\"Open In Colab\"/></a>"
      ]
    },
    {
      "cell_type": "code",
      "execution_count": null,
      "metadata": {
        "colab": {
          "base_uri": "https://localhost:8080/"
        },
        "id": "HrsOXZZ_ORf7",
        "outputId": "c37a2fd2-02c9-4657-b192-c65e6c2bcc69"
      },
      "outputs": [
        {
          "output_type": "stream",
          "name": "stdout",
          "text": [
            "Looking in indexes: https://pypi.org/simple, https://us-python.pkg.dev/colab-wheels/public/simple/\n",
            "Collecting pystac-client\n",
            "  Downloading pystac_client-0.6.0-py3-none-any.whl (30 kB)\n",
            "Collecting sat-search\n",
            "  Downloading sat-search-0.3.0.tar.gz (10 kB)\n",
            "  Preparing metadata (setup.py) ... \u001b[?25l\u001b[?25hdone\n",
            "Collecting requests>=2.27.1\n",
            "  Downloading requests-2.28.2-py3-none-any.whl (62 kB)\n",
            "\u001b[2K     \u001b[90m━━━━━━━━━━━━━━━━━━━━━━━━━━━━━━━━━━━━━━━━\u001b[0m \u001b[32m62.8/62.8 KB\u001b[0m \u001b[31m5.7 MB/s\u001b[0m eta \u001b[36m0:00:00\u001b[0m\n",
            "\u001b[?25hRequirement already satisfied: python-dateutil>=2.7.0 in /usr/local/lib/python3.8/dist-packages (from pystac-client) (2.8.2)\n",
            "Collecting pystac>=1.4.0\n",
            "  Downloading pystac-1.6.1-py3-none-any.whl (146 kB)\n",
            "\u001b[2K     \u001b[90m━━━━━━━━━━━━━━━━━━━━━━━━━━━━━━━━━━━━━━━\u001b[0m \u001b[32m146.0/146.0 KB\u001b[0m \u001b[31m8.3 MB/s\u001b[0m eta \u001b[36m0:00:00\u001b[0m\n",
            "\u001b[?25hCollecting sat-stac~=0.4.0\n",
            "  Downloading sat-stac-0.4.1.tar.gz (16 kB)\n",
            "  Preparing metadata (setup.py) ... \u001b[?25l\u001b[?25hdone\n",
            "Requirement already satisfied: six>=1.5 in /usr/local/lib/python3.8/dist-packages (from python-dateutil>=2.7.0->pystac-client) (1.15.0)\n",
            "Requirement already satisfied: charset-normalizer<4,>=2 in /usr/local/lib/python3.8/dist-packages (from requests>=2.27.1->pystac-client) (2.1.1)\n",
            "Requirement already satisfied: certifi>=2017.4.17 in /usr/local/lib/python3.8/dist-packages (from requests>=2.27.1->pystac-client) (2022.12.7)\n",
            "Requirement already satisfied: urllib3<1.27,>=1.21.1 in /usr/local/lib/python3.8/dist-packages (from requests>=2.27.1->pystac-client) (1.24.3)\n",
            "Requirement already satisfied: idna<4,>=2.5 in /usr/local/lib/python3.8/dist-packages (from requests>=2.27.1->pystac-client) (2.10)\n",
            "Collecting python-dateutil>=2.7.0\n",
            "  Downloading python_dateutil-2.7.5-py2.py3-none-any.whl (225 kB)\n",
            "\u001b[2K     \u001b[90m━━━━━━━━━━━━━━━━━━━━━━━━━━━━━━━━━━━━━━\u001b[0m \u001b[32m225.7/225.7 KB\u001b[0m \u001b[31m14.7 MB/s\u001b[0m eta \u001b[36m0:00:00\u001b[0m\n",
            "\u001b[?25hBuilding wheels for collected packages: sat-search, sat-stac\n",
            "  Building wheel for sat-search (setup.py) ... \u001b[?25l\u001b[?25hdone\n",
            "  Created wheel for sat-search: filename=sat_search-0.3.0-py3-none-any.whl size=9256 sha256=8a461d42c5ca8f8e12205478c2a1a6cc5b692e5e911c450df883d9cc88f57f44\n",
            "  Stored in directory: /root/.cache/pip/wheels/1f/df/6e/dd93a35102c164e530a509504c924c0e9969449f7eb88befa7\n",
            "  Building wheel for sat-stac (setup.py) ... \u001b[?25l\u001b[?25hdone\n",
            "  Created wheel for sat-stac: filename=sat_stac-0.4.1-py3-none-any.whl size=15199 sha256=a55dd07fb0e89aa83d49084e80227e77f071a223c895ce6ce450453a93f708aa\n",
            "  Stored in directory: /root/.cache/pip/wheels/53/4a/73/9b473cab35f8a2e770ee868813194b8f6d38e393ef467a7125\n",
            "Successfully built sat-search sat-stac\n",
            "Installing collected packages: requests, python-dateutil, sat-stac, pystac, sat-search, pystac-client\n",
            "  Attempting uninstall: requests\n",
            "    Found existing installation: requests 2.25.1\n",
            "    Uninstalling requests-2.25.1:\n",
            "      Successfully uninstalled requests-2.25.1\n",
            "  Attempting uninstall: python-dateutil\n",
            "    Found existing installation: python-dateutil 2.8.2\n",
            "    Uninstalling python-dateutil-2.8.2:\n",
            "      Successfully uninstalled python-dateutil-2.8.2\n",
            "\u001b[31mERROR: pip's dependency resolver does not currently take into account all the packages that are installed. This behaviour is the source of the following dependency conflicts.\n",
            "prophet 1.1.1 requires python-dateutil>=2.8.0, but you have python-dateutil 2.7.5 which is incompatible.\u001b[0m\u001b[31m\n",
            "\u001b[0mSuccessfully installed pystac-1.6.1 pystac-client-0.6.0 python-dateutil-2.7.5 requests-2.28.2 sat-search-0.3.0 sat-stac-0.4.1\n"
          ]
        }
      ],
      "source": [
        "%pip install pystac-client sat-search "
      ]
    },
    {
      "cell_type": "code",
      "source": [
        "from pystac_client import Client\n",
        "\n",
        "LandsatSTAC = Client.open(\"https://landsatlook.usgs.gov/stac-server\", headers=[])\n",
        "\n",
        "for collection in LandsatSTAC.get_collections():\n",
        "    print(collection)"
      ],
      "metadata": {
        "colab": {
          "base_uri": "https://localhost:8080/"
        },
        "id": "TGa3igjuObk6",
        "outputId": "c520dc45-6948-4226-9704-cd5c04d7da09"
      },
      "execution_count": null,
      "outputs": [
        {
          "output_type": "stream",
          "name": "stdout",
          "text": [
            "<CollectionClient id=landsat-c2l2-sr>\n",
            "<CollectionClient id=landsat-c2l2-st>\n",
            "<CollectionClient id=landsat-c2ard-st>\n",
            "<CollectionClient id=landsat-c2l2alb-bt>\n",
            "<CollectionClient id=landsat-c2l3-fsca>\n",
            "<CollectionClient id=landsat-c2ard-bt>\n",
            "<CollectionClient id=landsat-c2l1>\n",
            "<CollectionClient id=landsat-c2l3-ba>\n",
            "<CollectionClient id=landsat-c2l2alb-st>\n",
            "<CollectionClient id=landsat-c2ard-sr>\n",
            "<CollectionClient id=landsat-c2l2alb-sr>\n",
            "<CollectionClient id=landsat-c2l2alb-ta>\n",
            "<CollectionClient id=landsat-c2l3-dswe>\n",
            "<CollectionClient id=landsat-c2ard-ta>\n"
          ]
        }
      ]
    },
    {
      "cell_type": "code",
      "source": [
        "import satsearch\n",
        "\n",
        "SentinelSTAC = satsearch.Search.search( url = \"https://earth-search.aws.element84.com/v0\" )\n",
        "print(\"Found \" + str(SentinelSTAC.found()) + \"items\")"
      ],
      "metadata": {
        "colab": {
          "base_uri": "https://localhost:8080/"
        },
        "id": "drjfGSueOwE4",
        "outputId": "6f84a122-9e97-496c-f42c-1370f6c12f69"
      },
      "execution_count": null,
      "outputs": [
        {
          "output_type": "stream",
          "name": "stdout",
          "text": [
            "Found 56989335items\n"
          ]
        }
      ]
    },
    {
      "cell_type": "code",
      "source": [
        "def BuildSquare(lon, lat, delta):\n",
        "    c1 = [lon + delta, lat + delta]\n",
        "    c2 = [lon + delta, lat - delta]\n",
        "    c3 = [lon - delta, lat - delta]\n",
        "    c4 = [lon - delta, lat + delta]\n",
        "    geometry = {\"type\": \"Polygon\", \"coordinates\": [[ c1, c2, c3, c4, c1 ]]}\n",
        "    return geometry\n",
        "\n",
        "geometry = BuildSquare(-59.346271, -34.233076, 0.04)\n",
        "timeRange = '2019-06-01/2021-06-01'\n",
        "geometry"
      ],
      "metadata": {
        "colab": {
          "base_uri": "https://localhost:8080/"
        },
        "id": "Y_ArZIeMPAYe",
        "outputId": "9d232f16-a17c-407a-b1e6-919e9796c741"
      },
      "execution_count": null,
      "outputs": [
        {
          "output_type": "execute_result",
          "data": {
            "text/plain": [
              "{'type': 'Polygon',\n",
              " 'coordinates': [[[-59.306271, -34.193076],\n",
              "   [-59.306271, -34.273075999999996],\n",
              "   [-59.386271, -34.273075999999996],\n",
              "   [-59.386271, -34.193076],\n",
              "   [-59.306271, -34.193076]]]}"
            ]
          },
          "metadata": {},
          "execution_count": 7
        }
      ]
    },
    {
      "cell_type": "code",
      "source": [
        "LandsatSearch = LandsatSTAC.search ( \n",
        "    intersects = geometry,\n",
        "    datetime = timeRange,\n",
        "    collections = [\"landsat-c2l2-sr\"],\n",
        "    query={\"eo:cloud_cover\":{\"lt\":10}} )\n",
        "\n",
        "Landsat_items = [i.to_dict() for i in LandsatSearch.get_items()]\n",
        "print(f\"{len(Landsat_items)} Landsat scenes fetched\")"
      ],
      "metadata": {
        "colab": {
          "base_uri": "https://localhost:8080/"
        },
        "id": "T2iSgZi5Pjo0",
        "outputId": "9e6d40c7-915c-4bfd-a910-b74784493085"
      },
      "execution_count": null,
      "outputs": [
        {
          "output_type": "stream",
          "name": "stdout",
          "text": [
            "82 Landsat scenes fetched\n"
          ]
        }
      ]
    },
    {
      "cell_type": "code",
      "source": [
        "for item in Landsat_items:\n",
        "    red_href = item['assets']['red']['href']\n",
        "    red_s3 = item['assets']['red']['alternate']['s3']['href']\n",
        "    print(red_href)    \n",
        "    print(red_s3)"
      ],
      "metadata": {
        "colab": {
          "base_uri": "https://localhost:8080/"
        },
        "id": "YwGIR7K1P3ny",
        "outputId": "12934b96-2a1d-4d21-8283-3abcb5a7a91c"
      },
      "execution_count": null,
      "outputs": [
        {
          "output_type": "stream",
          "name": "stdout",
          "text": [
            "https://landsatlook.usgs.gov/data/collection02/level-2/standard/etm/2021/226/084/LE07_L2SP_226084_20210527_20210622_02_T1/LE07_L2SP_226084_20210527_20210622_02_T1_SR_B3.TIF\n",
            "s3://usgs-landsat/collection02/level-2/standard/etm/2021/226/084/LE07_L2SP_226084_20210527_20210622_02_T1/LE07_L2SP_226084_20210527_20210622_02_T1_SR_B3.TIF\n",
            "https://landsatlook.usgs.gov/data/collection02/level-2/standard/oli-tirs/2021/225/084/LC08_L2SP_225084_20210512_20210524_02_T1/LC08_L2SP_225084_20210512_20210524_02_T1_SR_B4.TIF\n",
            "s3://usgs-landsat/collection02/level-2/standard/oli-tirs/2021/225/084/LC08_L2SP_225084_20210512_20210524_02_T1/LC08_L2SP_225084_20210512_20210524_02_T1_SR_B4.TIF\n",
            "https://landsatlook.usgs.gov/data/collection02/level-2/standard/etm/2021/226/084/LE07_L2SP_226084_20210511_20210606_02_T1/LE07_L2SP_226084_20210511_20210606_02_T1_SR_B3.TIF\n",
            "s3://usgs-landsat/collection02/level-2/standard/etm/2021/226/084/LE07_L2SP_226084_20210511_20210606_02_T1/LE07_L2SP_226084_20210511_20210606_02_T1_SR_B3.TIF\n",
            "https://landsatlook.usgs.gov/data/collection02/level-2/standard/etm/2021/225/084/LE07_L2SP_225084_20210504_20210530_02_T1/LE07_L2SP_225084_20210504_20210530_02_T1_SR_B3.TIF\n",
            "s3://usgs-landsat/collection02/level-2/standard/etm/2021/225/084/LE07_L2SP_225084_20210504_20210530_02_T1/LE07_L2SP_225084_20210504_20210530_02_T1_SR_B3.TIF\n",
            "https://landsatlook.usgs.gov/data/collection02/level-2/standard/oli-tirs/2021/225/084/LC08_L2SP_225084_20210426_20210501_02_T1/LC08_L2SP_225084_20210426_20210501_02_T1_SR_B4.TIF\n",
            "s3://usgs-landsat/collection02/level-2/standard/oli-tirs/2021/225/084/LC08_L2SP_225084_20210426_20210501_02_T1/LC08_L2SP_225084_20210426_20210501_02_T1_SR_B4.TIF\n",
            "https://landsatlook.usgs.gov/data/collection02/level-2/standard/etm/2021/226/084/LE07_L2SP_226084_20210425_20210521_02_T1/LE07_L2SP_226084_20210425_20210521_02_T1_SR_B3.TIF\n",
            "s3://usgs-landsat/collection02/level-2/standard/etm/2021/226/084/LE07_L2SP_226084_20210425_20210521_02_T1/LE07_L2SP_226084_20210425_20210521_02_T1_SR_B3.TIF\n",
            "https://landsatlook.usgs.gov/data/collection02/level-2/standard/oli-tirs/2021/226/084/LC08_L2SP_226084_20210401_20210409_02_T1/LC08_L2SP_226084_20210401_20210409_02_T1_SR_B4.TIF\n",
            "s3://usgs-landsat/collection02/level-2/standard/oli-tirs/2021/226/084/LC08_L2SP_226084_20210401_20210409_02_T1/LC08_L2SP_226084_20210401_20210409_02_T1_SR_B4.TIF\n",
            "https://landsatlook.usgs.gov/data/collection02/level-2/standard/oli-tirs/2021/225/084/LC08_L2SP_225084_20210309_20210317_02_T1/LC08_L2SP_225084_20210309_20210317_02_T1_SR_B4.TIF\n",
            "s3://usgs-landsat/collection02/level-2/standard/oli-tirs/2021/225/084/LC08_L2SP_225084_20210309_20210317_02_T1/LC08_L2SP_225084_20210309_20210317_02_T1_SR_B4.TIF\n",
            "https://landsatlook.usgs.gov/data/collection02/level-2/standard/oli-tirs/2021/225/084/LC08_L2SP_225084_20210221_20210303_02_T1/LC08_L2SP_225084_20210221_20210303_02_T1_SR_B4.TIF\n",
            "s3://usgs-landsat/collection02/level-2/standard/oli-tirs/2021/225/084/LC08_L2SP_225084_20210221_20210303_02_T1/LC08_L2SP_225084_20210221_20210303_02_T1_SR_B4.TIF\n",
            "https://landsatlook.usgs.gov/data/collection02/level-2/standard/etm/2021/226/084/LE07_L2SP_226084_20210220_20210318_02_T1/LE07_L2SP_226084_20210220_20210318_02_T1_SR_B3.TIF\n",
            "s3://usgs-landsat/collection02/level-2/standard/etm/2021/226/084/LE07_L2SP_226084_20210220_20210318_02_T1/LE07_L2SP_226084_20210220_20210318_02_T1_SR_B3.TIF\n",
            "https://landsatlook.usgs.gov/data/collection02/level-2/standard/oli-tirs/2021/225/084/LC08_L2SP_225084_20210205_20220526_02_T1/LC08_L2SP_225084_20210205_20220526_02_T1_SR_B4.TIF\n",
            "s3://usgs-landsat/collection02/level-2/standard/oli-tirs/2021/225/084/LC08_L2SP_225084_20210205_20220526_02_T1/LC08_L2SP_225084_20210205_20220526_02_T1_SR_B4.TIF\n",
            "https://landsatlook.usgs.gov/data/collection02/level-2/standard/etm/2021/226/084/LE07_L2SP_226084_20210204_20210302_02_T1/LE07_L2SP_226084_20210204_20210302_02_T1_SR_B3.TIF\n",
            "s3://usgs-landsat/collection02/level-2/standard/etm/2021/226/084/LE07_L2SP_226084_20210204_20210302_02_T1/LE07_L2SP_226084_20210204_20210302_02_T1_SR_B3.TIF\n",
            "https://landsatlook.usgs.gov/data/collection02/level-2/standard/oli-tirs/2021/226/084/LC08_L2SP_226084_20210127_20210305_02_T1/LC08_L2SP_226084_20210127_20210305_02_T1_SR_B4.TIF\n",
            "s3://usgs-landsat/collection02/level-2/standard/oli-tirs/2021/226/084/LC08_L2SP_226084_20210127_20210305_02_T1/LC08_L2SP_226084_20210127_20210305_02_T1_SR_B4.TIF\n",
            "https://landsatlook.usgs.gov/data/collection02/level-2/standard/oli-tirs/2021/225/084/LC08_L2SP_225084_20210120_20210307_02_T1/LC08_L2SP_225084_20210120_20210307_02_T1_SR_B4.TIF\n",
            "s3://usgs-landsat/collection02/level-2/standard/oli-tirs/2021/225/084/LC08_L2SP_225084_20210120_20210307_02_T1/LC08_L2SP_225084_20210120_20210307_02_T1_SR_B4.TIF\n",
            "https://landsatlook.usgs.gov/data/collection02/level-2/standard/etm/2021/226/084/LE07_L2SP_226084_20210119_20210214_02_T1/LE07_L2SP_226084_20210119_20210214_02_T1_SR_B3.TIF\n",
            "s3://usgs-landsat/collection02/level-2/standard/etm/2021/226/084/LE07_L2SP_226084_20210119_20210214_02_T1/LE07_L2SP_226084_20210119_20210214_02_T1_SR_B3.TIF\n",
            "https://landsatlook.usgs.gov/data/collection02/level-2/standard/etm/2020/225/084/LE07_L2SP_225084_20201227_20210122_02_T1/LE07_L2SP_225084_20201227_20210122_02_T1_SR_B3.TIF\n",
            "s3://usgs-landsat/collection02/level-2/standard/etm/2020/225/084/LE07_L2SP_225084_20201227_20210122_02_T1/LE07_L2SP_225084_20201227_20210122_02_T1_SR_B3.TIF\n",
            "https://landsatlook.usgs.gov/data/collection02/level-2/standard/oli-tirs/2020/226/084/LC08_L2SP_226084_20201226_20210310_02_T1/LC08_L2SP_226084_20201226_20210310_02_T1_SR_B4.TIF\n",
            "s3://usgs-landsat/collection02/level-2/standard/oli-tirs/2020/226/084/LC08_L2SP_226084_20201226_20210310_02_T1/LC08_L2SP_226084_20201226_20210310_02_T1_SR_B4.TIF\n",
            "https://landsatlook.usgs.gov/data/collection02/level-2/standard/oli-tirs/2020/226/084/LC08_L2SP_226084_20201210_20210313_02_T1/LC08_L2SP_226084_20201210_20210313_02_T1_SR_B4.TIF\n",
            "s3://usgs-landsat/collection02/level-2/standard/oli-tirs/2020/226/084/LC08_L2SP_226084_20201210_20210313_02_T1/LC08_L2SP_226084_20201210_20210313_02_T1_SR_B4.TIF\n",
            "https://landsatlook.usgs.gov/data/collection02/level-2/standard/oli-tirs/2020/226/083/LC08_L2SP_226083_20201210_20210313_02_T1/LC08_L2SP_226083_20201210_20210313_02_T1_SR_B4.TIF\n",
            "s3://usgs-landsat/collection02/level-2/standard/oli-tirs/2020/226/083/LC08_L2SP_226083_20201210_20210313_02_T1/LC08_L2SP_226083_20201210_20210313_02_T1_SR_B4.TIF\n",
            "https://landsatlook.usgs.gov/data/collection02/level-2/standard/oli-tirs/2020/225/084/LC08_L2SP_225084_20201203_20210313_02_T1/LC08_L2SP_225084_20201203_20210313_02_T1_SR_B4.TIF\n",
            "s3://usgs-landsat/collection02/level-2/standard/oli-tirs/2020/225/084/LC08_L2SP_225084_20201203_20210313_02_T1/LC08_L2SP_225084_20201203_20210313_02_T1_SR_B4.TIF\n",
            "https://landsatlook.usgs.gov/data/collection02/level-2/standard/etm/2020/226/084/LE07_L2SP_226084_20201116_20201212_02_T1/LE07_L2SP_226084_20201116_20201212_02_T1_SR_B3.TIF\n",
            "s3://usgs-landsat/collection02/level-2/standard/etm/2020/226/084/LE07_L2SP_226084_20201116_20201212_02_T1/LE07_L2SP_226084_20201116_20201212_02_T1_SR_B3.TIF\n",
            "https://landsatlook.usgs.gov/data/collection02/level-2/standard/etm/2020/226/084/LE07_L2SP_226084_20201031_20201126_02_T1/LE07_L2SP_226084_20201031_20201126_02_T1_SR_B3.TIF\n",
            "s3://usgs-landsat/collection02/level-2/standard/etm/2020/226/084/LE07_L2SP_226084_20201031_20201126_02_T1/LE07_L2SP_226084_20201031_20201126_02_T1_SR_B3.TIF\n",
            "https://landsatlook.usgs.gov/data/collection02/level-2/standard/oli-tirs/2020/225/084/LC08_L2SP_225084_20201016_20201105_02_T1/LC08_L2SP_225084_20201016_20201105_02_T1_SR_B4.TIF\n",
            "s3://usgs-landsat/collection02/level-2/standard/oli-tirs/2020/225/084/LC08_L2SP_225084_20201016_20201105_02_T1/LC08_L2SP_225084_20201016_20201105_02_T1_SR_B4.TIF\n",
            "https://landsatlook.usgs.gov/data/collection02/level-2/standard/oli-tirs/2020/226/084/LC08_L2SP_226084_20201007_20220526_02_T1/LC08_L2SP_226084_20201007_20220526_02_T1_SR_B4.TIF\n",
            "s3://usgs-landsat/collection02/level-2/standard/oli-tirs/2020/226/084/LC08_L2SP_226084_20201007_20220526_02_T1/LC08_L2SP_226084_20201007_20220526_02_T1_SR_B4.TIF\n",
            "https://landsatlook.usgs.gov/data/collection02/level-2/standard/oli-tirs/2020/226/083/LC08_L2SP_226083_20201007_20220526_02_T1/LC08_L2SP_226083_20201007_20220526_02_T1_SR_B4.TIF\n",
            "s3://usgs-landsat/collection02/level-2/standard/oli-tirs/2020/226/083/LC08_L2SP_226083_20201007_20220526_02_T1/LC08_L2SP_226083_20201007_20220526_02_T1_SR_B4.TIF\n",
            "https://landsatlook.usgs.gov/data/collection02/level-2/standard/oli-tirs/2020/225/084/LC08_L2SP_225084_20200930_20201007_02_T1/LC08_L2SP_225084_20200930_20201007_02_T1_SR_B4.TIF\n",
            "s3://usgs-landsat/collection02/level-2/standard/oli-tirs/2020/225/084/LC08_L2SP_225084_20200930_20201007_02_T1/LC08_L2SP_225084_20200930_20201007_02_T1_SR_B4.TIF\n",
            "https://landsatlook.usgs.gov/data/collection02/level-2/standard/oli-tirs/2020/226/084/LC08_L2SP_226084_20200921_20201006_02_T1/LC08_L2SP_226084_20200921_20201006_02_T1_SR_B4.TIF\n",
            "s3://usgs-landsat/collection02/level-2/standard/oli-tirs/2020/226/084/LC08_L2SP_226084_20200921_20201006_02_T1/LC08_L2SP_226084_20200921_20201006_02_T1_SR_B4.TIF\n",
            "https://landsatlook.usgs.gov/data/collection02/level-2/standard/oli-tirs/2020/226/083/LC08_L2SP_226083_20200921_20201006_02_T1/LC08_L2SP_226083_20200921_20201006_02_T1_SR_B4.TIF\n",
            "s3://usgs-landsat/collection02/level-2/standard/oli-tirs/2020/226/083/LC08_L2SP_226083_20200921_20201006_02_T1/LC08_L2SP_226083_20200921_20201006_02_T1_SR_B4.TIF\n",
            "https://landsatlook.usgs.gov/data/collection02/level-2/standard/oli-tirs/2020/225/084/LC08_L2SP_225084_20200914_20200919_02_T1/LC08_L2SP_225084_20200914_20200919_02_T1_SR_B4.TIF\n",
            "s3://usgs-landsat/collection02/level-2/standard/oli-tirs/2020/225/084/LC08_L2SP_225084_20200914_20200919_02_T1/LC08_L2SP_225084_20200914_20200919_02_T1_SR_B4.TIF\n",
            "https://landsatlook.usgs.gov/data/collection02/level-2/standard/oli-tirs/2020/226/084/LC08_L2SP_226084_20200905_20200918_02_T1/LC08_L2SP_226084_20200905_20200918_02_T1_SR_B4.TIF\n",
            "s3://usgs-landsat/collection02/level-2/standard/oli-tirs/2020/226/084/LC08_L2SP_226084_20200905_20200918_02_T1/LC08_L2SP_226084_20200905_20200918_02_T1_SR_B4.TIF\n",
            "https://landsatlook.usgs.gov/data/collection02/level-2/standard/etm/2020/225/084/LE07_L2SP_225084_20200821_20200917_02_T1/LE07_L2SP_225084_20200821_20200917_02_T1_SR_B3.TIF\n",
            "s3://usgs-landsat/collection02/level-2/standard/etm/2020/225/084/LE07_L2SP_225084_20200821_20200917_02_T1/LE07_L2SP_225084_20200821_20200917_02_T1_SR_B3.TIF\n",
            "https://landsatlook.usgs.gov/data/collection02/level-2/standard/oli-tirs/2020/226/084/LC08_L2SP_226084_20200820_20200905_02_T1/LC08_L2SP_226084_20200820_20200905_02_T1_SR_B4.TIF\n",
            "s3://usgs-landsat/collection02/level-2/standard/oli-tirs/2020/226/084/LC08_L2SP_226084_20200820_20200905_02_T1/LC08_L2SP_226084_20200820_20200905_02_T1_SR_B4.TIF\n",
            "https://landsatlook.usgs.gov/data/collection02/level-2/standard/oli-tirs/2020/225/084/LC08_L2SP_225084_20200813_20200919_02_T1/LC08_L2SP_225084_20200813_20200919_02_T1_SR_B4.TIF\n",
            "s3://usgs-landsat/collection02/level-2/standard/oli-tirs/2020/225/084/LC08_L2SP_225084_20200813_20200919_02_T1/LC08_L2SP_225084_20200813_20200919_02_T1_SR_B4.TIF\n",
            "https://landsatlook.usgs.gov/data/collection02/level-2/standard/etm/2020/226/084/LE07_L2SP_226084_20200812_20200915_02_T1/LE07_L2SP_226084_20200812_20200915_02_T1_SR_B3.TIF\n",
            "s3://usgs-landsat/collection02/level-2/standard/etm/2020/226/084/LE07_L2SP_226084_20200812_20200915_02_T1/LE07_L2SP_226084_20200812_20200915_02_T1_SR_B3.TIF\n",
            "https://landsatlook.usgs.gov/data/collection02/level-2/standard/oli-tirs/2020/225/084/LC08_L2SP_225084_20200728_20200908_02_T1/LC08_L2SP_225084_20200728_20200908_02_T1_SR_B4.TIF\n",
            "s3://usgs-landsat/collection02/level-2/standard/oli-tirs/2020/225/084/LC08_L2SP_225084_20200728_20200908_02_T1/LC08_L2SP_225084_20200728_20200908_02_T1_SR_B4.TIF\n",
            "https://landsatlook.usgs.gov/data/collection02/level-2/standard/oli-tirs/2020/226/083/LC08_L2SP_226083_20200703_20200913_02_T1/LC08_L2SP_226083_20200703_20200913_02_T1_SR_B4.TIF\n",
            "s3://usgs-landsat/collection02/level-2/standard/oli-tirs/2020/226/083/LC08_L2SP_226083_20200703_20200913_02_T1/LC08_L2SP_226083_20200703_20200913_02_T1_SR_B4.TIF\n",
            "https://landsatlook.usgs.gov/data/collection02/level-2/standard/etm/2020/226/084/LE07_L2SP_226084_20200625_20200822_02_T1/LE07_L2SP_226084_20200625_20200822_02_T1_SR_B3.TIF\n",
            "s3://usgs-landsat/collection02/level-2/standard/etm/2020/226/084/LE07_L2SP_226084_20200625_20200822_02_T1/LE07_L2SP_226084_20200625_20200822_02_T1_SR_B3.TIF\n",
            "https://landsatlook.usgs.gov/data/collection02/level-2/standard/etm/2020/225/084/LE07_L2SP_225084_20200602_20200823_02_T1/LE07_L2SP_225084_20200602_20200823_02_T1_SR_B3.TIF\n",
            "s3://usgs-landsat/collection02/level-2/standard/etm/2020/225/084/LE07_L2SP_225084_20200602_20200823_02_T1/LE07_L2SP_225084_20200602_20200823_02_T1_SR_B3.TIF\n",
            "https://landsatlook.usgs.gov/data/collection02/level-2/standard/oli-tirs/2020/226/083/LC08_L2SP_226083_20200601_20200824_02_T1/LC08_L2SP_226083_20200601_20200824_02_T1_SR_B4.TIF\n",
            "s3://usgs-landsat/collection02/level-2/standard/oli-tirs/2020/226/083/LC08_L2SP_226083_20200601_20200824_02_T1/LC08_L2SP_226083_20200601_20200824_02_T1_SR_B4.TIF\n",
            "https://landsatlook.usgs.gov/data/collection02/level-2/standard/etm/2020/225/084/LE07_L2SP_225084_20200517_20200820_02_T1/LE07_L2SP_225084_20200517_20200820_02_T1_SR_B3.TIF\n",
            "s3://usgs-landsat/collection02/level-2/standard/etm/2020/225/084/LE07_L2SP_225084_20200517_20200820_02_T1/LE07_L2SP_225084_20200517_20200820_02_T1_SR_B3.TIF\n",
            "https://landsatlook.usgs.gov/data/collection02/level-2/standard/oli-tirs/2020/226/084/LC08_L2SP_226084_20200516_20200820_02_T1/LC08_L2SP_226084_20200516_20200820_02_T1_SR_B4.TIF\n",
            "s3://usgs-landsat/collection02/level-2/standard/oli-tirs/2020/226/084/LC08_L2SP_226084_20200516_20200820_02_T1/LC08_L2SP_226084_20200516_20200820_02_T1_SR_B4.TIF\n",
            "https://landsatlook.usgs.gov/data/collection02/level-2/standard/oli-tirs/2020/226/083/LC08_L2SP_226083_20200516_20200820_02_T1/LC08_L2SP_226083_20200516_20200820_02_T1_SR_B4.TIF\n",
            "s3://usgs-landsat/collection02/level-2/standard/oli-tirs/2020/226/083/LC08_L2SP_226083_20200516_20200820_02_T1/LC08_L2SP_226083_20200516_20200820_02_T1_SR_B4.TIF\n",
            "https://landsatlook.usgs.gov/data/collection02/level-2/standard/etm/2020/225/084/LE07_L2SP_225084_20200501_20200820_02_T1/LE07_L2SP_225084_20200501_20200820_02_T1_SR_B3.TIF\n",
            "s3://usgs-landsat/collection02/level-2/standard/etm/2020/225/084/LE07_L2SP_225084_20200501_20200820_02_T1/LE07_L2SP_225084_20200501_20200820_02_T1_SR_B3.TIF\n",
            "https://landsatlook.usgs.gov/data/collection02/level-2/standard/oli-tirs/2020/226/084/LC08_L2SP_226084_20200430_20200820_02_T1/LC08_L2SP_226084_20200430_20200820_02_T1_SR_B4.TIF\n",
            "s3://usgs-landsat/collection02/level-2/standard/oli-tirs/2020/226/084/LC08_L2SP_226084_20200430_20200820_02_T1/LC08_L2SP_226084_20200430_20200820_02_T1_SR_B4.TIF\n",
            "https://landsatlook.usgs.gov/data/collection02/level-2/standard/etm/2020/225/084/LE07_L2SP_225084_20200415_20200820_02_T1/LE07_L2SP_225084_20200415_20200820_02_T1_SR_B3.TIF\n",
            "s3://usgs-landsat/collection02/level-2/standard/etm/2020/225/084/LE07_L2SP_225084_20200415_20200820_02_T1/LE07_L2SP_225084_20200415_20200820_02_T1_SR_B3.TIF\n",
            "https://landsatlook.usgs.gov/data/collection02/level-2/standard/oli-tirs/2020/226/084/LC08_L2SP_226084_20200414_20200822_02_T1/LC08_L2SP_226084_20200414_20200822_02_T1_SR_B4.TIF\n",
            "s3://usgs-landsat/collection02/level-2/standard/oli-tirs/2020/226/084/LC08_L2SP_226084_20200414_20200822_02_T1/LC08_L2SP_226084_20200414_20200822_02_T1_SR_B4.TIF\n",
            "https://landsatlook.usgs.gov/data/collection02/level-2/standard/oli-tirs/2020/225/084/LC08_L2SP_225084_20200407_20200822_02_T1/LC08_L2SP_225084_20200407_20200822_02_T1_SR_B4.TIF\n",
            "s3://usgs-landsat/collection02/level-2/standard/oli-tirs/2020/225/084/LC08_L2SP_225084_20200407_20200822_02_T1/LC08_L2SP_225084_20200407_20200822_02_T1_SR_B4.TIF\n",
            "https://landsatlook.usgs.gov/data/collection02/level-2/standard/etm/2020/226/084/LE07_L2SP_226084_20200406_20200822_02_T1/LE07_L2SP_226084_20200406_20200822_02_T1_SR_B3.TIF\n",
            "s3://usgs-landsat/collection02/level-2/standard/etm/2020/226/084/LE07_L2SP_226084_20200406_20200822_02_T1/LE07_L2SP_226084_20200406_20200822_02_T1_SR_B3.TIF\n",
            "https://landsatlook.usgs.gov/data/collection02/level-2/standard/oli-tirs/2020/226/084/LC08_L2SP_226084_20200329_20200822_02_T1/LC08_L2SP_226084_20200329_20200822_02_T1_SR_B4.TIF\n",
            "s3://usgs-landsat/collection02/level-2/standard/oli-tirs/2020/226/084/LC08_L2SP_226084_20200329_20200822_02_T1/LC08_L2SP_226084_20200329_20200822_02_T1_SR_B4.TIF\n",
            "https://landsatlook.usgs.gov/data/collection02/level-2/standard/oli-tirs/2020/225/084/LC08_L2SP_225084_20200322_20200822_02_T1/LC08_L2SP_225084_20200322_20200822_02_T1_SR_B4.TIF\n",
            "s3://usgs-landsat/collection02/level-2/standard/oli-tirs/2020/225/084/LC08_L2SP_225084_20200322_20200822_02_T1/LC08_L2SP_225084_20200322_20200822_02_T1_SR_B4.TIF\n",
            "https://landsatlook.usgs.gov/data/collection02/level-2/standard/etm/2020/226/084/LE07_L2SP_226084_20200321_20200822_02_T1/LE07_L2SP_226084_20200321_20200822_02_T1_SR_B3.TIF\n",
            "s3://usgs-landsat/collection02/level-2/standard/etm/2020/226/084/LE07_L2SP_226084_20200321_20200822_02_T1/LE07_L2SP_226084_20200321_20200822_02_T1_SR_B3.TIF\n",
            "https://landsatlook.usgs.gov/data/collection02/level-2/standard/oli-tirs/2020/226/084/LC08_L2SP_226084_20200313_20200822_02_T1/LC08_L2SP_226084_20200313_20200822_02_T1_SR_B4.TIF\n",
            "s3://usgs-landsat/collection02/level-2/standard/oli-tirs/2020/226/084/LC08_L2SP_226084_20200313_20200822_02_T1/LC08_L2SP_226084_20200313_20200822_02_T1_SR_B4.TIF\n",
            "https://landsatlook.usgs.gov/data/collection02/level-2/standard/etm/2020/226/084/LE07_L2SP_226084_20200305_20200822_02_T1/LE07_L2SP_226084_20200305_20200822_02_T1_SR_B3.TIF\n",
            "s3://usgs-landsat/collection02/level-2/standard/etm/2020/226/084/LE07_L2SP_226084_20200305_20200822_02_T1/LE07_L2SP_226084_20200305_20200822_02_T1_SR_B3.TIF\n",
            "https://landsatlook.usgs.gov/data/collection02/level-2/standard/etm/2020/225/084/LE07_L2SP_225084_20200227_20200822_02_T1/LE07_L2SP_225084_20200227_20200822_02_T1_SR_B3.TIF\n",
            "s3://usgs-landsat/collection02/level-2/standard/etm/2020/225/084/LE07_L2SP_225084_20200227_20200822_02_T1/LE07_L2SP_225084_20200227_20200822_02_T1_SR_B3.TIF\n",
            "https://landsatlook.usgs.gov/data/collection02/level-2/standard/oli-tirs/2020/226/084/LC08_L2SP_226084_20200226_20200822_02_T1/LC08_L2SP_226084_20200226_20200822_02_T1_SR_B4.TIF\n",
            "s3://usgs-landsat/collection02/level-2/standard/oli-tirs/2020/226/084/LC08_L2SP_226084_20200226_20200822_02_T1/LC08_L2SP_226084_20200226_20200822_02_T1_SR_B4.TIF\n",
            "https://landsatlook.usgs.gov/data/collection02/level-2/standard/oli-tirs/2020/225/084/LC08_L2SP_225084_20200219_20200822_02_T1/LC08_L2SP_225084_20200219_20200822_02_T1_SR_B4.TIF\n",
            "s3://usgs-landsat/collection02/level-2/standard/oli-tirs/2020/225/084/LC08_L2SP_225084_20200219_20200822_02_T1/LC08_L2SP_225084_20200219_20200822_02_T1_SR_B4.TIF\n",
            "https://landsatlook.usgs.gov/data/collection02/level-2/standard/oli-tirs/2020/225/084/LC08_L2SP_225084_20200203_20200823_02_T1/LC08_L2SP_225084_20200203_20200823_02_T1_SR_B4.TIF\n",
            "s3://usgs-landsat/collection02/level-2/standard/oli-tirs/2020/225/084/LC08_L2SP_225084_20200203_20200823_02_T1/LC08_L2SP_225084_20200203_20200823_02_T1_SR_B4.TIF\n",
            "https://landsatlook.usgs.gov/data/collection02/level-2/standard/etm/2020/226/084/LE07_L2SP_226084_20200202_20200822_02_T1/LE07_L2SP_226084_20200202_20200822_02_T1_SR_B3.TIF\n",
            "s3://usgs-landsat/collection02/level-2/standard/etm/2020/226/084/LE07_L2SP_226084_20200202_20200822_02_T1/LE07_L2SP_226084_20200202_20200822_02_T1_SR_B3.TIF\n",
            "https://landsatlook.usgs.gov/data/collection02/level-2/standard/etm/2020/225/084/LE07_L2SP_225084_20200126_20200822_02_T1/LE07_L2SP_225084_20200126_20200822_02_T1_SR_B3.TIF\n",
            "s3://usgs-landsat/collection02/level-2/standard/etm/2020/225/084/LE07_L2SP_225084_20200126_20200822_02_T1/LE07_L2SP_225084_20200126_20200822_02_T1_SR_B3.TIF\n",
            "https://landsatlook.usgs.gov/data/collection02/level-2/standard/oli-tirs/2020/226/084/LC08_L2SP_226084_20200125_20200823_02_T1/LC08_L2SP_226084_20200125_20200823_02_T1_SR_B4.TIF\n",
            "s3://usgs-landsat/collection02/level-2/standard/oli-tirs/2020/226/084/LC08_L2SP_226084_20200125_20200823_02_T1/LC08_L2SP_226084_20200125_20200823_02_T1_SR_B4.TIF\n",
            "https://landsatlook.usgs.gov/data/collection02/level-2/standard/etm/2020/226/084/LE07_L2SP_226084_20200117_20200822_02_T1/LE07_L2SP_226084_20200117_20200822_02_T1_SR_B3.TIF\n",
            "s3://usgs-landsat/collection02/level-2/standard/etm/2020/226/084/LE07_L2SP_226084_20200117_20200822_02_T1/LE07_L2SP_226084_20200117_20200822_02_T1_SR_B3.TIF\n",
            "https://landsatlook.usgs.gov/data/collection02/level-2/standard/oli-tirs/2019/226/084/LC08_L2SP_226084_20191224_20200824_02_T1/LC08_L2SP_226084_20191224_20200824_02_T1_SR_B4.TIF\n",
            "s3://usgs-landsat/collection02/level-2/standard/oli-tirs/2019/226/084/LC08_L2SP_226084_20191224_20200824_02_T1/LC08_L2SP_226084_20191224_20200824_02_T1_SR_B4.TIF\n",
            "https://landsatlook.usgs.gov/data/collection02/level-2/standard/oli-tirs/2019/225/084/LC08_L2SP_225084_20191217_20201023_02_T1/LC08_L2SP_225084_20191217_20201023_02_T1_SR_B4.TIF\n",
            "s3://usgs-landsat/collection02/level-2/standard/oli-tirs/2019/225/084/LC08_L2SP_225084_20191217_20201023_02_T1/LC08_L2SP_225084_20191217_20201023_02_T1_SR_B4.TIF\n",
            "https://landsatlook.usgs.gov/data/collection02/level-2/standard/etm/2019/225/084/LE07_L2SP_225084_20191209_20200823_02_T1/LE07_L2SP_225084_20191209_20200823_02_T1_SR_B3.TIF\n",
            "s3://usgs-landsat/collection02/level-2/standard/etm/2019/225/084/LE07_L2SP_225084_20191209_20200823_02_T1/LE07_L2SP_225084_20191209_20200823_02_T1_SR_B3.TIF\n",
            "https://landsatlook.usgs.gov/data/collection02/level-2/standard/oli-tirs/2019/225/084/LC08_L2SP_225084_20191201_20200825_02_T1/LC08_L2SP_225084_20191201_20200825_02_T1_SR_B4.TIF\n",
            "s3://usgs-landsat/collection02/level-2/standard/oli-tirs/2019/225/084/LC08_L2SP_225084_20191201_20200825_02_T1/LC08_L2SP_225084_20191201_20200825_02_T1_SR_B4.TIF\n",
            "https://landsatlook.usgs.gov/data/collection02/level-2/standard/etm/2019/225/084/LE07_L2SP_225084_20191123_20200823_02_T1/LE07_L2SP_225084_20191123_20200823_02_T1_SR_B3.TIF\n",
            "s3://usgs-landsat/collection02/level-2/standard/etm/2019/225/084/LE07_L2SP_225084_20191123_20200823_02_T1/LE07_L2SP_225084_20191123_20200823_02_T1_SR_B3.TIF\n",
            "https://landsatlook.usgs.gov/data/collection02/level-2/standard/oli-tirs/2019/225/084/LC08_L2SP_225084_20191115_20200825_02_T1/LC08_L2SP_225084_20191115_20200825_02_T1_SR_B4.TIF\n",
            "s3://usgs-landsat/collection02/level-2/standard/oli-tirs/2019/225/084/LC08_L2SP_225084_20191115_20200825_02_T1/LC08_L2SP_225084_20191115_20200825_02_T1_SR_B4.TIF\n",
            "https://landsatlook.usgs.gov/data/collection02/level-2/standard/etm/2019/226/084/LE07_L2SP_226084_20191114_20200823_02_T1/LE07_L2SP_226084_20191114_20200823_02_T1_SR_B3.TIF\n",
            "s3://usgs-landsat/collection02/level-2/standard/etm/2019/226/084/LE07_L2SP_226084_20191114_20200823_02_T1/LE07_L2SP_226084_20191114_20200823_02_T1_SR_B3.TIF\n",
            "https://landsatlook.usgs.gov/data/collection02/level-2/standard/etm/2019/225/084/LE07_L2SP_225084_20191107_20200823_02_T1/LE07_L2SP_225084_20191107_20200823_02_T1_SR_B3.TIF\n",
            "s3://usgs-landsat/collection02/level-2/standard/etm/2019/225/084/LE07_L2SP_225084_20191107_20200823_02_T1/LE07_L2SP_225084_20191107_20200823_02_T1_SR_B3.TIF\n",
            "https://landsatlook.usgs.gov/data/collection02/level-2/standard/etm/2019/225/084/LE07_L2SP_225084_20191006_20200823_02_T1/LE07_L2SP_225084_20191006_20200823_02_T1_SR_B3.TIF\n",
            "s3://usgs-landsat/collection02/level-2/standard/etm/2019/225/084/LE07_L2SP_225084_20191006_20200823_02_T1/LE07_L2SP_225084_20191006_20200823_02_T1_SR_B3.TIF\n",
            "https://landsatlook.usgs.gov/data/collection02/level-2/standard/oli-tirs/2019/226/084/LC08_L2SP_226084_20191005_20200825_02_T1/LC08_L2SP_226084_20191005_20200825_02_T1_SR_B4.TIF\n",
            "s3://usgs-landsat/collection02/level-2/standard/oli-tirs/2019/226/084/LC08_L2SP_226084_20191005_20200825_02_T1/LC08_L2SP_226084_20191005_20200825_02_T1_SR_B4.TIF\n",
            "https://landsatlook.usgs.gov/data/collection02/level-2/standard/etm/2019/225/084/LE07_L2SP_225084_20190920_20200824_02_T1/LE07_L2SP_225084_20190920_20200824_02_T1_SR_B3.TIF\n",
            "s3://usgs-landsat/collection02/level-2/standard/etm/2019/225/084/LE07_L2SP_225084_20190920_20200824_02_T1/LE07_L2SP_225084_20190920_20200824_02_T1_SR_B3.TIF\n",
            "https://landsatlook.usgs.gov/data/collection02/level-2/standard/oli-tirs/2019/225/084/LC08_L2SP_225084_20190912_20200826_02_T1/LC08_L2SP_225084_20190912_20200826_02_T1_SR_B4.TIF\n",
            "s3://usgs-landsat/collection02/level-2/standard/oli-tirs/2019/225/084/LC08_L2SP_225084_20190912_20200826_02_T1/LC08_L2SP_225084_20190912_20200826_02_T1_SR_B4.TIF\n",
            "https://landsatlook.usgs.gov/data/collection02/level-2/standard/oli-tirs/2019/226/084/LC08_L2SP_226084_20190903_20200826_02_T1/LC08_L2SP_226084_20190903_20200826_02_T1_SR_B4.TIF\n",
            "s3://usgs-landsat/collection02/level-2/standard/oli-tirs/2019/226/084/LC08_L2SP_226084_20190903_20200826_02_T1/LC08_L2SP_226084_20190903_20200826_02_T1_SR_B4.TIF\n",
            "https://landsatlook.usgs.gov/data/collection02/level-2/standard/etm/2019/226/084/LE07_L2SP_226084_20190810_20200825_02_T1/LE07_L2SP_226084_20190810_20200825_02_T1_SR_B3.TIF\n",
            "s3://usgs-landsat/collection02/level-2/standard/etm/2019/226/084/LE07_L2SP_226084_20190810_20200825_02_T1/LE07_L2SP_226084_20190810_20200825_02_T1_SR_B3.TIF\n",
            "https://landsatlook.usgs.gov/data/collection02/level-2/standard/etm/2019/225/084/LE07_L2SP_225084_20190803_20200824_02_T1/LE07_L2SP_225084_20190803_20200824_02_T1_SR_B3.TIF\n",
            "s3://usgs-landsat/collection02/level-2/standard/etm/2019/225/084/LE07_L2SP_225084_20190803_20200824_02_T1/LE07_L2SP_225084_20190803_20200824_02_T1_SR_B3.TIF\n",
            "https://landsatlook.usgs.gov/data/collection02/level-2/standard/oli-tirs/2019/226/084/LC08_L2SP_226084_20190802_20200827_02_T1/LC08_L2SP_226084_20190802_20200827_02_T1_SR_B4.TIF\n",
            "s3://usgs-landsat/collection02/level-2/standard/oli-tirs/2019/226/084/LC08_L2SP_226084_20190802_20200827_02_T1/LC08_L2SP_226084_20190802_20200827_02_T1_SR_B4.TIF\n",
            "https://landsatlook.usgs.gov/data/collection02/level-2/standard/oli-tirs/2019/226/084/LC08_L2SP_226084_20190701_20200827_02_T1/LC08_L2SP_226084_20190701_20200827_02_T1_SR_B4.TIF\n",
            "s3://usgs-landsat/collection02/level-2/standard/oli-tirs/2019/226/084/LC08_L2SP_226084_20190701_20200827_02_T1/LC08_L2SP_226084_20190701_20200827_02_T1_SR_B4.TIF\n",
            "https://landsatlook.usgs.gov/data/collection02/level-2/standard/oli-tirs/2019/226/083/LC08_L2SP_226083_20190701_20200827_02_T1/LC08_L2SP_226083_20190701_20200827_02_T1_SR_B4.TIF\n",
            "s3://usgs-landsat/collection02/level-2/standard/oli-tirs/2019/226/083/LC08_L2SP_226083_20190701_20200827_02_T1/LC08_L2SP_226083_20190701_20200827_02_T1_SR_B4.TIF\n",
            "https://landsatlook.usgs.gov/data/collection02/level-2/standard/etm/2019/226/084/LE07_L2SP_226084_20190623_20200825_02_T2/LE07_L2SP_226084_20190623_20200825_02_T2_SR_B3.TIF\n",
            "s3://usgs-landsat/collection02/level-2/standard/etm/2019/226/084/LE07_L2SP_226084_20190623_20200825_02_T2/LE07_L2SP_226084_20190623_20200825_02_T2_SR_B3.TIF\n",
            "https://landsatlook.usgs.gov/data/collection02/level-2/standard/oli-tirs/2019/225/084/LC08_L2SP_225084_20190608_20200828_02_T1/LC08_L2SP_225084_20190608_20200828_02_T1_SR_B4.TIF\n",
            "s3://usgs-landsat/collection02/level-2/standard/oli-tirs/2019/225/084/LC08_L2SP_225084_20190608_20200828_02_T1/LC08_L2SP_225084_20190608_20200828_02_T1_SR_B4.TIF\n",
            "https://landsatlook.usgs.gov/data/collection02/level-2/standard/etm/2019/226/084/LE07_L2SP_226084_20190607_20200825_02_T1/LE07_L2SP_226084_20190607_20200825_02_T1_SR_B3.TIF\n",
            "s3://usgs-landsat/collection02/level-2/standard/etm/2019/226/084/LE07_L2SP_226084_20190607_20200825_02_T1/LE07_L2SP_226084_20190607_20200825_02_T1_SR_B3.TIF\n"
          ]
        }
      ]
    },
    {
      "cell_type": "code",
      "source": [
        "SentinelSearch = satsearch.Search.search( \n",
        "    url = \"https://earth-search.aws.element84.com/v0\",\n",
        "    intersects = geometry,\n",
        "    datetime = timeRange,\n",
        "    collections = ['sentinel-s2-l2a-cogs'] )\n",
        "\n",
        "Sentinel_items = SentinelSearch.items()\n",
        "print(Sentinel_items.summary())\n",
        "\n",
        "for item in Sentinel_items:\n",
        "    red_s3 = item.assets['B04']['href']\n",
        "    print(red_s3)"
      ],
      "metadata": {
        "colab": {
          "base_uri": "https://localhost:8080/"
        },
        "id": "Ruj8zGzPP-kz",
        "outputId": "ddb5e60f-9960-4026-920e-98931c5da824"
      },
      "execution_count": null,
      "outputs": [
        {
          "output_type": "stream",
          "name": "stdout",
          "text": [
            "Items (143):\n",
            "date                      id                        \n",
            "2021-05-28                S2B_21HTC_20210528_0_L2A  \n",
            "2021-05-23                S2A_21HTC_20210523_0_L2A  \n",
            "2021-05-18                S2B_21HTC_20210518_0_L2A  \n",
            "2021-05-13                S2A_21HTC_20210513_0_L2A  \n",
            "2021-05-08                S2B_21HTC_20210508_0_L2A  \n",
            "2021-05-03                S2A_21HTC_20210503_0_L2A  \n",
            "2021-04-28                S2B_21HTC_20210428_0_L2A  \n",
            "2021-04-23                S2A_21HTC_20210423_0_L2A  \n",
            "2021-04-18                S2B_21HTC_20210418_0_L2A  \n",
            "2021-04-13                S2A_21HTC_20210413_0_L2A  \n",
            "2021-04-08                S2B_21HTC_20210408_0_L2A  \n",
            "2021-04-03                S2A_21HTC_20210403_0_L2A  \n",
            "2021-03-29                S2B_21HTC_20210329_0_L2A  \n",
            "2021-03-24                S2A_21HTC_20210324_0_L2A  \n",
            "2021-03-19                S2B_21HTC_20210319_0_L2A  \n",
            "2021-03-14                S2A_21HTC_20210314_0_L2A  \n",
            "2021-03-09                S2B_21HTC_20210309_0_L2A  \n",
            "2021-03-04                S2A_21HTC_20210304_0_L2A  \n",
            "2021-02-27                S2B_21HTC_20210227_0_L2A  \n",
            "2021-02-22                S2A_21HTC_20210222_0_L2A  \n",
            "2021-02-17                S2B_21HTC_20210217_0_L2A  \n",
            "2021-02-12                S2A_21HTC_20210212_0_L2A  \n",
            "2021-02-07                S2B_21HTC_20210207_0_L2A  \n",
            "2021-02-02                S2A_21HTC_20210202_0_L2A  \n",
            "2021-01-28                S2B_21HTC_20210128_0_L2A  \n",
            "2021-01-23                S2A_21HTC_20210123_0_L2A  \n",
            "2021-01-18                S2B_21HTC_20210118_0_L2A  \n",
            "2021-01-13                S2A_21HTC_20210113_0_L2A  \n",
            "2021-01-08                S2B_21HTC_20210108_0_L2A  \n",
            "2021-01-03                S2A_21HTC_20210103_0_L2A  \n",
            "2020-12-29                S2B_21HTC_20201229_0_L2A  \n",
            "2020-12-24                S2A_21HTC_20201224_0_L2A  \n",
            "2020-12-19                S2B_21HTC_20201219_0_L2A  \n",
            "2020-12-14                S2A_21HTC_20201214_0_L2A  \n",
            "2020-12-09                S2B_21HTC_20201209_0_L2A  \n",
            "2020-12-04                S2A_21HTC_20201204_0_L2A  \n",
            "2020-11-29                S2B_21HTC_20201129_0_L2A  \n",
            "2020-11-24                S2A_21HTC_20201124_0_L2A  \n",
            "2020-11-19                S2B_21HTC_20201119_0_L2A  \n",
            "2020-11-14                S2A_21HTC_20201114_0_L2A  \n",
            "2020-11-09                S2B_21HTC_20201109_0_L2A  \n",
            "2020-11-04                S2A_21HTC_20201104_0_L2A  \n",
            "2020-10-30                S2B_21HTC_20201030_0_L2A  \n",
            "2020-10-25                S2A_21HTC_20201025_0_L2A  \n",
            "2020-10-20                S2B_21HTC_20201020_0_L2A  \n",
            "2020-10-15                S2A_21HTC_20201015_0_L2A  \n",
            "2020-10-10                S2B_21HTC_20201010_0_L2A  \n",
            "2020-09-30                S2B_21HTC_20200930_1_L2A  \n",
            "2020-09-25                S2A_21HTC_20200925_0_L2A  \n",
            "2020-09-20                S2B_21HTC_20200920_0_L2A  \n",
            "2020-09-15                S2A_21HTC_20200915_0_L2A  \n",
            "2020-09-10                S2B_21HTC_20200910_0_L2A  \n",
            "2020-09-05                S2A_21HTC_20200905_0_L2A  \n",
            "2020-08-31                S2B_21HTC_20200831_0_L2A  \n",
            "2020-08-26                S2A_21HTC_20200826_0_L2A  \n",
            "2020-08-21                S2B_21HTC_20200821_0_L2A  \n",
            "2020-08-16                S2A_21HTC_20200816_0_L2A  \n",
            "2020-08-11                S2B_21HTC_20200811_0_L2A  \n",
            "2020-08-06                S2A_21HTC_20200806_0_L2A  \n",
            "2020-08-01                S2B_21HTC_20200801_0_L2A  \n",
            "2020-07-27                S2A_21HTC_20200727_0_L2A  \n",
            "2020-07-22                S2B_21HTC_20200722_0_L2A  \n",
            "2020-07-17                S2A_21HTC_20200717_0_L2A  \n",
            "2020-07-12                S2B_21HTC_20200712_0_L2A  \n",
            "2020-07-07                S2A_21HTC_20200707_0_L2A  \n",
            "2020-07-02                S2B_21HTC_20200702_0_L2A  \n",
            "2020-06-27                S2A_21HTC_20200627_0_L2A  \n",
            "2020-06-22                S2B_21HTC_20200622_0_L2A  \n",
            "2020-06-17                S2A_21HTC_20200617_0_L2A  \n",
            "2020-06-12                S2B_21HTC_20200612_0_L2A  \n",
            "2020-06-07                S2A_21HTC_20200607_0_L2A  \n",
            "2020-06-02                S2B_21HTC_20200602_0_L2A  \n",
            "2020-05-28                S2A_21HTC_20200528_0_L2A  \n",
            "2020-05-18                S2A_21HTC_20200518_0_L2A  \n",
            "2020-05-13                S2B_21HTC_20200513_0_L2A  \n",
            "2020-05-08                S2A_21HTC_20200508_0_L2A  \n",
            "2020-05-03                S2B_21HTC_20200503_0_L2A  \n",
            "2020-04-28                S2A_21HTC_20200428_0_L2A  \n",
            "2020-04-23                S2B_21HTC_20200423_0_L2A  \n",
            "2020-04-18                S2A_21HTC_20200418_0_L2A  \n",
            "2020-04-13                S2B_21HTC_20200413_0_L2A  \n",
            "2020-04-08                S2A_21HTC_20200408_0_L2A  \n",
            "2020-04-03                S2B_21HTC_20200403_0_L2A  \n",
            "2020-03-29                S2A_21HTC_20200329_0_L2A  \n",
            "2020-03-24                S2B_21HTC_20200324_0_L2A  \n",
            "2020-03-19                S2A_21HTC_20200319_0_L2A  \n",
            "2020-03-14                S2B_21HTC_20200314_0_L2A  \n",
            "2020-03-09                S2A_21HTC_20200309_0_L2A  \n",
            "2020-03-04                S2B_21HTC_20200304_0_L2A  \n",
            "2020-02-28                S2A_21HTC_20200228_0_L2A  \n",
            "2020-02-23                S2B_21HTC_20200223_0_L2A  \n",
            "2020-02-18                S2A_21HTC_20200218_0_L2A  \n",
            "2020-02-13                S2B_21HTC_20200213_0_L2A  \n",
            "2020-02-08                S2A_21HTC_20200208_0_L2A  \n",
            "2020-02-03                S2B_21HTC_20200203_0_L2A  \n",
            "2020-01-29                S2A_21HTC_20200129_0_L2A  \n",
            "2020-01-24                S2B_21HTC_20200124_0_L2A  \n",
            "2020-01-19                S2A_21HTC_20200119_0_L2A  \n",
            "2020-01-14                S2B_21HTC_20200114_0_L2A  \n",
            "2020-01-09                S2A_21HTC_20200109_0_L2A  \n",
            "2020-01-04                S2B_21HTC_20200104_0_L2A  \n",
            "2019-12-30                S2A_21HTC_20191230_0_L2A  \n",
            "2019-12-25                S2B_21HTC_20191225_0_L2A  \n",
            "2019-12-20                S2A_21HTC_20191220_0_L2A  \n",
            "2019-12-15                S2B_21HTC_20191215_0_L2A  \n",
            "2019-12-10                S2A_21HTC_20191210_0_L2A  \n",
            "2019-12-05                S2B_21HTC_20191205_0_L2A  \n",
            "2019-11-30                S2A_21HTC_20191130_0_L2A  \n",
            "2019-11-20                S2A_21HTC_20191120_0_L2A  \n",
            "2019-11-15                S2B_21HTC_20191115_0_L2A  \n",
            "2019-11-10                S2A_21HTC_20191110_0_L2A  \n",
            "2019-11-05                S2B_21HTC_20191105_0_L2A  \n",
            "2019-10-31                S2A_21HTC_20191031_0_L2A  \n",
            "2019-10-26                S2B_21HTC_20191026_0_L2A  \n",
            "2019-10-21                S2A_21HTC_20191021_0_L2A  \n",
            "2019-10-16                S2B_21HTC_20191016_0_L2A  \n",
            "2019-10-11                S2A_21HTC_20191011_0_L2A  \n",
            "2019-10-06                S2B_21HTC_20191006_0_L2A  \n",
            "2019-10-01                S2A_21HTC_20191001_0_L2A  \n",
            "2019-09-26                S2B_21HTC_20190926_0_L2A  \n",
            "2019-09-21                S2A_21HTC_20190921_0_L2A  \n",
            "2019-09-16                S2B_21HTC_20190916_0_L2A  \n",
            "2019-09-11                S2A_21HTC_20190911_0_L2A  \n",
            "2019-09-06                S2B_21HTC_20190906_0_L2A  \n",
            "2019-09-01                S2A_21HTC_20190901_0_L2A  \n",
            "2019-08-27                S2B_21HTC_20190827_0_L2A  \n",
            "2019-08-22                S2A_21HTC_20190822_0_L2A  \n",
            "2019-08-17                S2B_21HTC_20190817_0_L2A  \n",
            "2019-08-12                S2A_21HTC_20190812_0_L2A  \n",
            "2019-08-07                S2B_21HTC_20190807_0_L2A  \n",
            "2019-08-02                S2A_21HTC_20190802_0_L2A  \n",
            "2019-07-28                S2B_21HTC_20190728_1_L2A  \n",
            "2019-07-23                S2A_21HTC_20190723_0_L2A  \n",
            "2019-07-18                S2B_21HTC_20190718_0_L2A  \n",
            "2019-07-13                S2A_21HTC_20190713_0_L2A  \n",
            "2019-07-08                S2B_21HTC_20190708_0_L2A  \n",
            "2019-07-03                S2A_21HTC_20190703_0_L2A  \n",
            "2019-06-28                S2B_21HTC_20190628_0_L2A  \n",
            "2019-06-23                S2A_21HTC_20190623_0_L2A  \n",
            "2019-06-18                S2B_21HTC_20190618_0_L2A  \n",
            "2019-06-13                S2A_21HTC_20190613_0_L2A  \n",
            "2019-06-08                S2B_21HTC_20190608_0_L2A  \n",
            "2019-06-03                S2A_21HTC_20190603_0_L2A  \n",
            "\n",
            "https://sentinel-cogs.s3.us-west-2.amazonaws.com/sentinel-s2-l2a-cogs/21/H/TC/2021/5/S2B_21HTC_20210528_0_L2A/B04.tif\n",
            "https://sentinel-cogs.s3.us-west-2.amazonaws.com/sentinel-s2-l2a-cogs/21/H/TC/2021/5/S2A_21HTC_20210523_0_L2A/B04.tif\n",
            "https://sentinel-cogs.s3.us-west-2.amazonaws.com/sentinel-s2-l2a-cogs/21/H/TC/2021/5/S2B_21HTC_20210518_0_L2A/B04.tif\n",
            "https://sentinel-cogs.s3.us-west-2.amazonaws.com/sentinel-s2-l2a-cogs/21/H/TC/2021/5/S2A_21HTC_20210513_0_L2A/B04.tif\n",
            "https://sentinel-cogs.s3.us-west-2.amazonaws.com/sentinel-s2-l2a-cogs/21/H/TC/2021/5/S2B_21HTC_20210508_0_L2A/B04.tif\n",
            "https://sentinel-cogs.s3.us-west-2.amazonaws.com/sentinel-s2-l2a-cogs/21/H/TC/2021/5/S2A_21HTC_20210503_0_L2A/B04.tif\n",
            "https://sentinel-cogs.s3.us-west-2.amazonaws.com/sentinel-s2-l2a-cogs/21/H/TC/2021/4/S2B_21HTC_20210428_0_L2A/B04.tif\n",
            "https://sentinel-cogs.s3.us-west-2.amazonaws.com/sentinel-s2-l2a-cogs/21/H/TC/2021/4/S2A_21HTC_20210423_0_L2A/B04.tif\n",
            "https://sentinel-cogs.s3.us-west-2.amazonaws.com/sentinel-s2-l2a-cogs/21/H/TC/2021/4/S2B_21HTC_20210418_0_L2A/B04.tif\n",
            "https://sentinel-cogs.s3.us-west-2.amazonaws.com/sentinel-s2-l2a-cogs/21/H/TC/2021/4/S2A_21HTC_20210413_0_L2A/B04.tif\n",
            "https://sentinel-cogs.s3.us-west-2.amazonaws.com/sentinel-s2-l2a-cogs/21/H/TC/2021/4/S2B_21HTC_20210408_0_L2A/B04.tif\n",
            "https://sentinel-cogs.s3.us-west-2.amazonaws.com/sentinel-s2-l2a-cogs/21/H/TC/2021/4/S2A_21HTC_20210403_0_L2A/B04.tif\n",
            "https://sentinel-cogs.s3.us-west-2.amazonaws.com/sentinel-s2-l2a-cogs/21/H/TC/2021/3/S2B_21HTC_20210329_0_L2A/B04.tif\n",
            "https://sentinel-cogs.s3.us-west-2.amazonaws.com/sentinel-s2-l2a-cogs/21/H/TC/2021/3/S2A_21HTC_20210324_0_L2A/B04.tif\n",
            "https://sentinel-cogs.s3.us-west-2.amazonaws.com/sentinel-s2-l2a-cogs/21/H/TC/2021/3/S2B_21HTC_20210319_0_L2A/B04.tif\n",
            "https://sentinel-cogs.s3.us-west-2.amazonaws.com/sentinel-s2-l2a-cogs/21/H/TC/2021/3/S2A_21HTC_20210314_0_L2A/B04.tif\n",
            "https://sentinel-cogs.s3.us-west-2.amazonaws.com/sentinel-s2-l2a-cogs/21/H/TC/2021/3/S2B_21HTC_20210309_0_L2A/B04.tif\n",
            "https://sentinel-cogs.s3.us-west-2.amazonaws.com/sentinel-s2-l2a-cogs/21/H/TC/2021/3/S2A_21HTC_20210304_0_L2A/B04.tif\n",
            "https://sentinel-cogs.s3.us-west-2.amazonaws.com/sentinel-s2-l2a-cogs/21/H/TC/2021/2/S2B_21HTC_20210227_0_L2A/B04.tif\n",
            "https://sentinel-cogs.s3.us-west-2.amazonaws.com/sentinel-s2-l2a-cogs/21/H/TC/2021/2/S2A_21HTC_20210222_0_L2A/B04.tif\n",
            "https://sentinel-cogs.s3.us-west-2.amazonaws.com/sentinel-s2-l2a-cogs/21/H/TC/2021/2/S2B_21HTC_20210217_0_L2A/B04.tif\n",
            "https://sentinel-cogs.s3.us-west-2.amazonaws.com/sentinel-s2-l2a-cogs/21/H/TC/2021/2/S2A_21HTC_20210212_0_L2A/B04.tif\n",
            "https://sentinel-cogs.s3.us-west-2.amazonaws.com/sentinel-s2-l2a-cogs/21/H/TC/2021/2/S2B_21HTC_20210207_0_L2A/B04.tif\n",
            "https://sentinel-cogs.s3.us-west-2.amazonaws.com/sentinel-s2-l2a-cogs/21/H/TC/2021/2/S2A_21HTC_20210202_0_L2A/B04.tif\n",
            "https://sentinel-cogs.s3.us-west-2.amazonaws.com/sentinel-s2-l2a-cogs/21/H/TC/2021/1/S2B_21HTC_20210128_0_L2A/B04.tif\n",
            "https://sentinel-cogs.s3.us-west-2.amazonaws.com/sentinel-s2-l2a-cogs/21/H/TC/2021/1/S2A_21HTC_20210123_0_L2A/B04.tif\n",
            "https://sentinel-cogs.s3.us-west-2.amazonaws.com/sentinel-s2-l2a-cogs/21/H/TC/2021/1/S2B_21HTC_20210118_0_L2A/B04.tif\n",
            "https://sentinel-cogs.s3.us-west-2.amazonaws.com/sentinel-s2-l2a-cogs/21/H/TC/2021/1/S2A_21HTC_20210113_0_L2A/B04.tif\n",
            "https://sentinel-cogs.s3.us-west-2.amazonaws.com/sentinel-s2-l2a-cogs/21/H/TC/2021/1/S2B_21HTC_20210108_0_L2A/B04.tif\n",
            "https://sentinel-cogs.s3.us-west-2.amazonaws.com/sentinel-s2-l2a-cogs/21/H/TC/2021/1/S2A_21HTC_20210103_0_L2A/B04.tif\n",
            "https://sentinel-cogs.s3.us-west-2.amazonaws.com/sentinel-s2-l2a-cogs/21/H/TC/2020/12/S2B_21HTC_20201229_0_L2A/B04.tif\n",
            "https://sentinel-cogs.s3.us-west-2.amazonaws.com/sentinel-s2-l2a-cogs/21/H/TC/2020/12/S2A_21HTC_20201224_0_L2A/B04.tif\n",
            "https://sentinel-cogs.s3.us-west-2.amazonaws.com/sentinel-s2-l2a-cogs/21/H/TC/2020/12/S2B_21HTC_20201219_0_L2A/B04.tif\n",
            "https://sentinel-cogs.s3.us-west-2.amazonaws.com/sentinel-s2-l2a-cogs/21/H/TC/2020/12/S2A_21HTC_20201214_0_L2A/B04.tif\n",
            "https://sentinel-cogs.s3.us-west-2.amazonaws.com/sentinel-s2-l2a-cogs/21/H/TC/2020/12/S2B_21HTC_20201209_0_L2A/B04.tif\n",
            "https://sentinel-cogs.s3.us-west-2.amazonaws.com/sentinel-s2-l2a-cogs/21/H/TC/2020/12/S2A_21HTC_20201204_0_L2A/B04.tif\n",
            "https://sentinel-cogs.s3.us-west-2.amazonaws.com/sentinel-s2-l2a-cogs/21/H/TC/2020/11/S2B_21HTC_20201129_0_L2A/B04.tif\n",
            "https://sentinel-cogs.s3.us-west-2.amazonaws.com/sentinel-s2-l2a-cogs/21/H/TC/2020/11/S2A_21HTC_20201124_0_L2A/B04.tif\n",
            "https://sentinel-cogs.s3.us-west-2.amazonaws.com/sentinel-s2-l2a-cogs/21/H/TC/2020/11/S2B_21HTC_20201119_0_L2A/B04.tif\n",
            "https://sentinel-cogs.s3.us-west-2.amazonaws.com/sentinel-s2-l2a-cogs/21/H/TC/2020/11/S2A_21HTC_20201114_0_L2A/B04.tif\n",
            "https://sentinel-cogs.s3.us-west-2.amazonaws.com/sentinel-s2-l2a-cogs/21/H/TC/2020/11/S2B_21HTC_20201109_0_L2A/B04.tif\n",
            "https://sentinel-cogs.s3.us-west-2.amazonaws.com/sentinel-s2-l2a-cogs/21/H/TC/2020/11/S2A_21HTC_20201104_0_L2A/B04.tif\n",
            "https://sentinel-cogs.s3.us-west-2.amazonaws.com/sentinel-s2-l2a-cogs/21/H/TC/2020/10/S2B_21HTC_20201030_0_L2A/B04.tif\n",
            "https://sentinel-cogs.s3.us-west-2.amazonaws.com/sentinel-s2-l2a-cogs/21/H/TC/2020/10/S2A_21HTC_20201025_0_L2A/B04.tif\n",
            "https://sentinel-cogs.s3.us-west-2.amazonaws.com/sentinel-s2-l2a-cogs/21/H/TC/2020/10/S2B_21HTC_20201020_0_L2A/B04.tif\n",
            "https://sentinel-cogs.s3.us-west-2.amazonaws.com/sentinel-s2-l2a-cogs/21/H/TC/2020/10/S2A_21HTC_20201015_0_L2A/B04.tif\n",
            "https://sentinel-cogs.s3.us-west-2.amazonaws.com/sentinel-s2-l2a-cogs/21/H/TC/2020/10/S2B_21HTC_20201010_0_L2A/B04.tif\n",
            "https://sentinel-cogs.s3.us-west-2.amazonaws.com/sentinel-s2-l2a-cogs/21/H/TC/2020/9/S2B_21HTC_20200930_1_L2A/B04.tif\n",
            "https://sentinel-cogs.s3.us-west-2.amazonaws.com/sentinel-s2-l2a-cogs/21/H/TC/2020/9/S2A_21HTC_20200925_0_L2A/B04.tif\n",
            "https://sentinel-cogs.s3.us-west-2.amazonaws.com/sentinel-s2-l2a-cogs/21/H/TC/2020/9/S2B_21HTC_20200920_0_L2A/B04.tif\n",
            "https://sentinel-cogs.s3.us-west-2.amazonaws.com/sentinel-s2-l2a-cogs/21/H/TC/2020/9/S2A_21HTC_20200915_0_L2A/B04.tif\n",
            "https://sentinel-cogs.s3.us-west-2.amazonaws.com/sentinel-s2-l2a-cogs/21/H/TC/2020/9/S2B_21HTC_20200910_0_L2A/B04.tif\n",
            "https://sentinel-cogs.s3.us-west-2.amazonaws.com/sentinel-s2-l2a-cogs/21/H/TC/2020/9/S2A_21HTC_20200905_0_L2A/B04.tif\n",
            "https://sentinel-cogs.s3.us-west-2.amazonaws.com/sentinel-s2-l2a-cogs/21/H/TC/2020/8/S2B_21HTC_20200831_0_L2A/B04.tif\n",
            "https://sentinel-cogs.s3.us-west-2.amazonaws.com/sentinel-s2-l2a-cogs/21/H/TC/2020/8/S2A_21HTC_20200826_0_L2A/B04.tif\n",
            "https://sentinel-cogs.s3.us-west-2.amazonaws.com/sentinel-s2-l2a-cogs/21/H/TC/2020/8/S2B_21HTC_20200821_0_L2A/B04.tif\n",
            "https://sentinel-cogs.s3.us-west-2.amazonaws.com/sentinel-s2-l2a-cogs/21H/TC2020/8/S2A_21HTC_20200816_0_L2A/B04.tif\n",
            "https://sentinel-cogs.s3.us-west-2.amazonaws.com/sentinel-s2-l2a-cogs/21H/TC2020/8/S2B_21HTC_20200811_0_L2A/B04.tif\n",
            "https://sentinel-cogs.s3.us-west-2.amazonaws.com/sentinel-s2-l2a-cogs/21H/TC2020/8/S2A_21HTC_20200806_0_L2A/B04.tif\n",
            "https://sentinel-cogs.s3.us-west-2.amazonaws.com/sentinel-s2-l2a-cogs/21H/TC2020/8/S2B_21HTC_20200801_0_L2A/B04.tif\n",
            "https://sentinel-cogs.s3.us-west-2.amazonaws.com/sentinel-s2-l2a-cogs/21/H/TC/2020/7/S2A_21HTC_20200727_0_L2A/B04.tif\n",
            "https://sentinel-cogs.s3.us-west-2.amazonaws.com/sentinel-s2-l2a-cogs/21/H/TC/2020/7/S2B_21HTC_20200722_0_L2A/B04.tif\n",
            "https://sentinel-cogs.s3.us-west-2.amazonaws.com/sentinel-s2-l2a-cogs/21/H/TC/2020/7/S2A_21HTC_20200717_0_L2A/B04.tif\n",
            "https://sentinel-cogs.s3.us-west-2.amazonaws.com/sentinel-s2-l2a-cogs/21/H/TC/2020/7/S2B_21HTC_20200712_0_L2A/B04.tif\n",
            "https://sentinel-cogs.s3.us-west-2.amazonaws.com/sentinel-s2-l2a-cogs/21/H/TC/2020/7/S2A_21HTC_20200707_0_L2A/B04.tif\n",
            "https://sentinel-cogs.s3.us-west-2.amazonaws.com/sentinel-s2-l2a-cogs/21/H/TC/2020/7/S2B_21HTC_20200702_0_L2A/B04.tif\n",
            "https://sentinel-cogs.s3.us-west-2.amazonaws.com/sentinel-s2-l2a-cogs/21/H/TC/2020/6/S2A_21HTC_20200627_0_L2A/B04.tif\n",
            "https://sentinel-cogs.s3.us-west-2.amazonaws.com/sentinel-s2-l2a-cogs/21/H/TC/2020/6/S2B_21HTC_20200622_0_L2A/B04.tif\n",
            "https://sentinel-cogs.s3.us-west-2.amazonaws.com/sentinel-s2-l2a-cogs/21/H/TC/2020/6/S2A_21HTC_20200617_0_L2A/B04.tif\n",
            "https://sentinel-cogs.s3.us-west-2.amazonaws.com/sentinel-s2-l2a-cogs/21/H/TC/2020/6/S2B_21HTC_20200612_0_L2A/B04.tif\n",
            "https://sentinel-cogs.s3.us-west-2.amazonaws.com/sentinel-s2-l2a-cogs/21/H/TC/2020/6/S2A_21HTC_20200607_0_L2A/B04.tif\n",
            "https://sentinel-cogs.s3.us-west-2.amazonaws.com/sentinel-s2-l2a-cogs/21/H/TC/2020/6/S2B_21HTC_20200602_0_L2A/B04.tif\n",
            "https://sentinel-cogs.s3.us-west-2.amazonaws.com/sentinel-s2-l2a-cogs/21/H/TC/2020/5/S2A_21HTC_20200528_0_L2A/B04.tif\n",
            "https://sentinel-cogs.s3.us-west-2.amazonaws.com/sentinel-s2-l2a-cogs/21/H/TC/2020/5/S2A_21HTC_20200518_0_L2A/B04.tif\n",
            "https://sentinel-cogs.s3.us-west-2.amazonaws.com/sentinel-s2-l2a-cogs/21/H/TC/2020/5/S2B_21HTC_20200513_0_L2A/B04.tif\n",
            "https://sentinel-cogs.s3.us-west-2.amazonaws.com/sentinel-s2-l2a-cogs/21/H/TC/2020/5/S2A_21HTC_20200508_0_L2A/B04.tif\n",
            "https://sentinel-cogs.s3.us-west-2.amazonaws.com/sentinel-s2-l2a-cogs/21/H/TC/2020/5/S2B_21HTC_20200503_0_L2A/B04.tif\n",
            "https://sentinel-cogs.s3.us-west-2.amazonaws.com/sentinel-s2-l2a-cogs/21/H/TC/2020/4/S2A_21HTC_20200428_0_L2A/B04.tif\n",
            "https://sentinel-cogs.s3.us-west-2.amazonaws.com/sentinel-s2-l2a-cogs/21/H/TC/2020/4/S2B_21HTC_20200423_0_L2A/B04.tif\n",
            "https://sentinel-cogs.s3.us-west-2.amazonaws.com/sentinel-s2-l2a-cogs/21/H/TC/2020/4/S2A_21HTC_20200418_0_L2A/B04.tif\n",
            "https://sentinel-cogs.s3.us-west-2.amazonaws.com/sentinel-s2-l2a-cogs/21/H/TC/2020/4/S2B_21HTC_20200413_0_L2A/B04.tif\n",
            "https://sentinel-cogs.s3.us-west-2.amazonaws.com/sentinel-s2-l2a-cogs/21/H/TC/2020/4/S2A_21HTC_20200408_0_L2A/B04.tif\n",
            "https://sentinel-cogs.s3.us-west-2.amazonaws.com/sentinel-s2-l2a-cogs/21/H/TC/2020/4/S2B_21HTC_20200403_0_L2A/B04.tif\n",
            "https://sentinel-cogs.s3.us-west-2.amazonaws.com/sentinel-s2-l2a-cogs/21/H/TC/2020/3/S2A_21HTC_20200329_0_L2A/B04.tif\n",
            "https://sentinel-cogs.s3.us-west-2.amazonaws.com/sentinel-s2-l2a-cogs/21/H/TC/2020/3/S2B_21HTC_20200324_0_L2A/B04.tif\n",
            "https://sentinel-cogs.s3.us-west-2.amazonaws.com/sentinel-s2-l2a-cogs/21/H/TC/2020/3/S2A_21HTC_20200319_0_L2A/B04.tif\n",
            "https://sentinel-cogs.s3.us-west-2.amazonaws.com/sentinel-s2-l2a-cogs/21/H/TC/2020/3/S2B_21HTC_20200314_0_L2A/B04.tif\n",
            "https://sentinel-cogs.s3.us-west-2.amazonaws.com/sentinel-s2-l2a-cogs/21/H/TC/2020/3/S2A_21HTC_20200309_0_L2A/B04.tif\n",
            "https://sentinel-cogs.s3.us-west-2.amazonaws.com/sentinel-s2-l2a-cogs/21/H/TC/2020/3/S2B_21HTC_20200304_0_L2A/B04.tif\n",
            "https://sentinel-cogs.s3.us-west-2.amazonaws.com/sentinel-s2-l2a-cogs/21/H/TC/2020/2/S2A_21HTC_20200228_0_L2A/B04.tif\n",
            "https://sentinel-cogs.s3.us-west-2.amazonaws.com/sentinel-s2-l2a-cogs/21/H/TC/2020/2/S2B_21HTC_20200223_0_L2A/B04.tif\n",
            "https://sentinel-cogs.s3.us-west-2.amazonaws.com/sentinel-s2-l2a-cogs/21/H/TC/2020/2/S2A_21HTC_20200218_0_L2A/B04.tif\n",
            "https://sentinel-cogs.s3.us-west-2.amazonaws.com/sentinel-s2-l2a-cogs/21/H/TC/2020/2/S2B_21HTC_20200213_0_L2A/B04.tif\n",
            "https://sentinel-cogs.s3.us-west-2.amazonaws.com/sentinel-s2-l2a-cogs/21/H/TC/2020/2/S2A_21HTC_20200208_0_L2A/B04.tif\n",
            "https://sentinel-cogs.s3.us-west-2.amazonaws.com/sentinel-s2-l2a-cogs/21/H/TC/2020/2/S2B_21HTC_20200203_0_L2A/B04.tif\n",
            "https://sentinel-cogs.s3.us-west-2.amazonaws.com/sentinel-s2-l2a-cogs/21/H/TC/2020/1/S2A_21HTC_20200129_0_L2A/B04.tif\n",
            "https://sentinel-cogs.s3.us-west-2.amazonaws.com/sentinel-s2-l2a-cogs/21/H/TC/2020/1/S2B_21HTC_20200124_0_L2A/B04.tif\n",
            "https://sentinel-cogs.s3.us-west-2.amazonaws.com/sentinel-s2-l2a-cogs/21/H/TC/2020/1/S2A_21HTC_20200119_0_L2A/B04.tif\n",
            "https://sentinel-cogs.s3.us-west-2.amazonaws.com/sentinel-s2-l2a-cogs/21/H/TC/2020/1/S2B_21HTC_20200114_0_L2A/B04.tif\n",
            "https://sentinel-cogs.s3.us-west-2.amazonaws.com/sentinel-s2-l2a-cogs/21/H/TC/2020/1/S2A_21HTC_20200109_0_L2A/B04.tif\n",
            "https://sentinel-cogs.s3.us-west-2.amazonaws.com/sentinel-s2-l2a-cogs/21/H/TC/2020/1/S2B_21HTC_20200104_0_L2A/B04.tif\n",
            "https://sentinel-cogs.s3.us-west-2.amazonaws.com/sentinel-s2-l2a-cogs/21/H/TC/2019/12/S2A_21HTC_20191230_0_L2A/B04.tif\n",
            "https://sentinel-cogs.s3.us-west-2.amazonaws.com/sentinel-s2-l2a-cogs/21/H/TC/2019/12/S2B_21HTC_20191225_0_L2A/B04.tif\n",
            "https://sentinel-cogs.s3.us-west-2.amazonaws.com/sentinel-s2-l2a-cogs/21/H/TC/2019/12/S2A_21HTC_20191220_0_L2A/B04.tif\n",
            "https://sentinel-cogs.s3.us-west-2.amazonaws.com/sentinel-s2-l2a-cogs/21/H/TC/2019/12/S2B_21HTC_20191215_0_L2A/B04.tif\n",
            "https://sentinel-cogs.s3.us-west-2.amazonaws.com/sentinel-s2-l2a-cogs/21/H/TC/2019/12/S2A_21HTC_20191210_0_L2A/B04.tif\n",
            "https://sentinel-cogs.s3.us-west-2.amazonaws.com/sentinel-s2-l2a-cogs/21/H/TC/2019/12/S2B_21HTC_20191205_0_L2A/B04.tif\n",
            "https://sentinel-cogs.s3.us-west-2.amazonaws.com/sentinel-s2-l2a-cogs/21/H/TC/2019/11/S2A_21HTC_20191130_0_L2A/B04.tif\n",
            "https://sentinel-cogs.s3.us-west-2.amazonaws.com/sentinel-s2-l2a-cogs/21/H/TC/2019/11/S2A_21HTC_20191120_0_L2A/B04.tif\n",
            "https://sentinel-cogs.s3.us-west-2.amazonaws.com/sentinel-s2-l2a-cogs/21/H/TC/2019/11/S2B_21HTC_20191115_0_L2A/B04.tif\n",
            "https://sentinel-cogs.s3.us-west-2.amazonaws.com/sentinel-s2-l2a-cogs/21/H/TC/2019/11/S2A_21HTC_20191110_0_L2A/B04.tif\n",
            "https://sentinel-cogs.s3.us-west-2.amazonaws.com/sentinel-s2-l2a-cogs/21/H/TC/2019/11/S2B_21HTC_20191105_0_L2A/B04.tif\n",
            "https://sentinel-cogs.s3.us-west-2.amazonaws.com/sentinel-s2-l2a-cogs/21/H/TC/2019/10/S2A_21HTC_20191031_0_L2A/B04.tif\n",
            "https://sentinel-cogs.s3.us-west-2.amazonaws.com/sentinel-s2-l2a-cogs/21/H/TC/2019/10/S2B_21HTC_20191026_0_L2A/B04.tif\n",
            "https://sentinel-cogs.s3.us-west-2.amazonaws.com/sentinel-s2-l2a-cogs/21/H/TC/2019/10/S2A_21HTC_20191021_0_L2A/B04.tif\n",
            "https://sentinel-cogs.s3.us-west-2.amazonaws.com/sentinel-s2-l2a-cogs/21/H/TC/2019/10/S2B_21HTC_20191016_0_L2A/B04.tif\n",
            "https://sentinel-cogs.s3.us-west-2.amazonaws.com/sentinel-s2-l2a-cogs/21/H/TC/2019/10/S2A_21HTC_20191011_0_L2A/B04.tif\n",
            "https://sentinel-cogs.s3.us-west-2.amazonaws.com/sentinel-s2-l2a-cogs/21/H/TC/2019/10/S2B_21HTC_20191006_0_L2A/B04.tif\n",
            "https://sentinel-cogs.s3.us-west-2.amazonaws.com/sentinel-s2-l2a-cogs/21/H/TC/2019/10/S2A_21HTC_20191001_0_L2A/B04.tif\n",
            "https://sentinel-cogs.s3.us-west-2.amazonaws.com/sentinel-s2-l2a-cogs/21/H/TC/2019/9/S2B_21HTC_20190926_0_L2A/B04.tif\n",
            "https://sentinel-cogs.s3.us-west-2.amazonaws.com/sentinel-s2-l2a-cogs/21/H/TC/2019/9/S2A_21HTC_20190921_0_L2A/B04.tif\n",
            "https://sentinel-cogs.s3.us-west-2.amazonaws.com/sentinel-s2-l2a-cogs/21/H/TC/2019/9/S2B_21HTC_20190916_0_L2A/B04.tif\n",
            "https://sentinel-cogs.s3.us-west-2.amazonaws.com/sentinel-s2-l2a-cogs/21/H/TC/2019/9/S2A_21HTC_20190911_0_L2A/B04.tif\n",
            "https://sentinel-cogs.s3.us-west-2.amazonaws.com/sentinel-s2-l2a-cogs/21/H/TC/2019/9/S2B_21HTC_20190906_0_L2A/B04.tif\n",
            "https://sentinel-cogs.s3.us-west-2.amazonaws.com/sentinel-s2-l2a-cogs/21/H/TC/2019/9/S2A_21HTC_20190901_0_L2A/B04.tif\n",
            "https://sentinel-cogs.s3.us-west-2.amazonaws.com/sentinel-s2-l2a-cogs/21/H/TC/2019/8/S2B_21HTC_20190827_0_L2A/B04.tif\n",
            "https://sentinel-cogs.s3.us-west-2.amazonaws.com/sentinel-s2-l2a-cogs/21/H/TC/2019/8/S2A_21HTC_20190822_0_L2A/B04.tif\n",
            "https://sentinel-cogs.s3.us-west-2.amazonaws.com/sentinel-s2-l2a-cogs/21/H/TC/2019/8/S2B_21HTC_20190817_0_L2A/B04.tif\n",
            "https://sentinel-cogs.s3.us-west-2.amazonaws.com/sentinel-s2-l2a-cogs/21/H/TC/2019/8/S2A_21HTC_20190812_0_L2A/B04.tif\n",
            "https://sentinel-cogs.s3.us-west-2.amazonaws.com/sentinel-s2-l2a-cogs/21/H/TC/2019/8/S2B_21HTC_20190807_0_L2A/B04.tif\n",
            "https://sentinel-cogs.s3.us-west-2.amazonaws.com/sentinel-s2-l2a-cogs/21/H/TC/2019/8/S2A_21HTC_20190802_0_L2A/B04.tif\n",
            "https://sentinel-cogs.s3.us-west-2.amazonaws.com/sentinel-s2-l2a-cogs/21/H/TC/2019/7/S2B_21HTC_20190728_1_L2A/B04.tif\n",
            "https://sentinel-cogs.s3.us-west-2.amazonaws.com/sentinel-s2-l2a-cogs/21/H/TC/2019/7/S2A_21HTC_20190723_0_L2A/B04.tif\n",
            "https://sentinel-cogs.s3.us-west-2.amazonaws.com/sentinel-s2-l2a-cogs/21/H/TC/2019/7/S2B_21HTC_20190718_0_L2A/B04.tif\n",
            "https://sentinel-cogs.s3.us-west-2.amazonaws.com/sentinel-s2-l2a-cogs/21/H/TC/2019/7/S2A_21HTC_20190713_0_L2A/B04.tif\n",
            "https://sentinel-cogs.s3.us-west-2.amazonaws.com/sentinel-s2-l2a-cogs/21/H/TC/2019/7/S2B_21HTC_20190708_0_L2A/B04.tif\n",
            "https://sentinel-cogs.s3.us-west-2.amazonaws.com/sentinel-s2-l2a-cogs/21/H/TC/2019/7/S2A_21HTC_20190703_0_L2A/B04.tif\n",
            "https://sentinel-cogs.s3.us-west-2.amazonaws.com/sentinel-s2-l2a-cogs/21/H/TC/2019/6/S2B_21HTC_20190628_0_L2A/B04.tif\n",
            "https://sentinel-cogs.s3.us-west-2.amazonaws.com/sentinel-s2-l2a-cogs/21/H/TC/2019/6/S2A_21HTC_20190623_0_L2A/B04.tif\n",
            "https://sentinel-cogs.s3.us-west-2.amazonaws.com/sentinel-s2-l2a-cogs/21/H/TC/2019/6/S2B_21HTC_20190618_0_L2A/B04.tif\n",
            "https://sentinel-cogs.s3.us-west-2.amazonaws.com/sentinel-s2-l2a-cogs/21/H/TC/2019/6/S2A_21HTC_20190613_0_L2A/B04.tif\n",
            "https://sentinel-cogs.s3.us-west-2.amazonaws.com/sentinel-s2-l2a-cogs/21/H/TC/2019/6/S2B_21HTC_20190608_0_L2A/B04.tif\n",
            "https://sentinel-cogs.s3.us-west-2.amazonaws.com/sentinel-s2-l2a-cogs/21/H/TC/2019/6/S2A_21HTC_20190603_0_L2A/B04.tif\n"
          ]
        }
      ]
    },
    {
      "cell_type": "code",
      "source": [
        "item = Sentinel_items[0]\n",
        "print(item.assets.keys())"
      ],
      "metadata": {
        "colab": {
          "base_uri": "https://localhost:8080/"
        },
        "id": "YNcnAXYOQYWv",
        "outputId": "315559c2-2a67-4e2d-f47b-127b7734d678"
      },
      "execution_count": null,
      "outputs": [
        {
          "output_type": "stream",
          "name": "stdout",
          "text": [
            "dict_keys(['thumbnail', 'overview', 'info', 'metadata', 'visual', 'B01', 'B02', 'B03', 'B04', 'B05', 'B06', 'B07', 'B08', 'B8A', 'B09', 'B11', 'B12', 'AOT', 'WVP', 'SCL'])\n"
          ]
        }
      ]
    },
    {
      "cell_type": "code",
      "source": [
        "# %pip install rasterio[s3]"
      ],
      "metadata": {
        "colab": {
          "base_uri": "https://localhost:8080/",
          "height": 800
        },
        "id": "xuhFWth_QaZ4",
        "outputId": "a6413e25-431a-48bb-abad-b3712f364d77"
      },
      "execution_count": null,
      "outputs": [
        {
          "output_type": "stream",
          "name": "stdout",
          "text": [
            "Looking in indexes: https://pypi.org/simple, https://us-python.pkg.dev/colab-wheels/public/simple/\n",
            "Collecting rasterio[s3]\n",
            "  Downloading rasterio-1.3.5-cp38-cp38-manylinux_2_17_x86_64.manylinux2014_x86_64.whl (20.9 MB)\n",
            "\u001b[2K     \u001b[90m━━━━━━━━━━━━━━━━━━━━━━━━━━━━━━━━━━━━━━━━\u001b[0m \u001b[32m20.9/20.9 MB\u001b[0m \u001b[31m53.6 MB/s\u001b[0m eta \u001b[36m0:00:00\u001b[0m\n",
            "\u001b[?25hRequirement already satisfied: certifi in /usr/local/lib/python3.8/dist-packages (from rasterio[s3]) (2022.12.7)\n",
            "Collecting click-plugins\n",
            "  Downloading click_plugins-1.1.1-py2.py3-none-any.whl (7.5 kB)\n",
            "Requirement already satisfied: numpy>=1.18 in /usr/local/lib/python3.8/dist-packages (from rasterio[s3]) (1.21.6)\n",
            "Requirement already satisfied: setuptools in /usr/local/lib/python3.8/dist-packages (from rasterio[s3]) (57.4.0)\n",
            "Requirement already satisfied: attrs in /usr/local/lib/python3.8/dist-packages (from rasterio[s3]) (22.2.0)\n",
            "Collecting snuggs>=1.4.1\n",
            "  Downloading snuggs-1.4.7-py3-none-any.whl (5.4 kB)\n",
            "Requirement already satisfied: click>=4.0 in /usr/local/lib/python3.8/dist-packages (from rasterio[s3]) (7.1.2)\n",
            "Collecting cligj>=0.5\n",
            "  Downloading cligj-0.7.2-py3-none-any.whl (7.1 kB)\n",
            "Collecting affine\n",
            "  Downloading affine-2.4.0-py3-none-any.whl (15 kB)\n",
            "Collecting boto3>=1.2.4\n",
            "  Downloading boto3-1.26.59-py3-none-any.whl (132 kB)\n",
            "\u001b[2K     \u001b[90m━━━━━━━━━━━━━━━━━━━━━━━━━━━━━━━━━━━━━━\u001b[0m \u001b[32m132.7/132.7 KB\u001b[0m \u001b[31m15.5 MB/s\u001b[0m eta \u001b[36m0:00:00\u001b[0m\n",
            "\u001b[?25hCollecting jmespath<2.0.0,>=0.7.1\n",
            "  Downloading jmespath-1.0.1-py3-none-any.whl (20 kB)\n",
            "Collecting botocore<1.30.0,>=1.29.59\n",
            "  Downloading botocore-1.29.59-py3-none-any.whl (10.4 MB)\n",
            "\u001b[2K     \u001b[90m━━━━━━━━━━━━━━━━━━━━━━━━━━━━━━━━━━━━━━━━\u001b[0m \u001b[32m10.4/10.4 MB\u001b[0m \u001b[31m66.6 MB/s\u001b[0m eta \u001b[36m0:00:00\u001b[0m\n",
            "\u001b[?25hCollecting s3transfer<0.7.0,>=0.6.0\n",
            "  Downloading s3transfer-0.6.0-py3-none-any.whl (79 kB)\n",
            "\u001b[2K     \u001b[90m━━━━━━━━━━━━━━━━━━━━━━━━━━━━━━━━━━━━━━━━\u001b[0m \u001b[32m79.6/79.6 KB\u001b[0m \u001b[31m10.3 MB/s\u001b[0m eta \u001b[36m0:00:00\u001b[0m\n",
            "\u001b[?25hRequirement already satisfied: pyparsing>=2.1.6 in /usr/local/lib/python3.8/dist-packages (from snuggs>=1.4.1->rasterio[s3]) (3.0.9)\n",
            "Collecting urllib3<1.27,>=1.25.4\n",
            "  Downloading urllib3-1.26.14-py2.py3-none-any.whl (140 kB)\n",
            "\u001b[2K     \u001b[90m━━━━━━━━━━━━━━━━━━━━━━━━━━━━━━━━━━━━━━\u001b[0m \u001b[32m140.6/140.6 KB\u001b[0m \u001b[31m12.2 MB/s\u001b[0m eta \u001b[36m0:00:00\u001b[0m\n",
            "\u001b[?25hRequirement already satisfied: python-dateutil<3.0.0,>=2.1 in /usr/local/lib/python3.8/dist-packages (from botocore<1.30.0,>=1.29.59->boto3>=1.2.4->rasterio[s3]) (2.7.5)\n",
            "Requirement already satisfied: six>=1.5 in /usr/local/lib/python3.8/dist-packages (from python-dateutil<3.0.0,>=2.1->botocore<1.30.0,>=1.29.59->boto3>=1.2.4->rasterio[s3]) (1.15.0)\n",
            "Installing collected packages: urllib3, snuggs, jmespath, cligj, click-plugins, affine, rasterio, botocore, s3transfer, boto3\n",
            "  Attempting uninstall: urllib3\n",
            "    Found existing installation: urllib3 1.24.3\n",
            "    Uninstalling urllib3-1.24.3:\n",
            "      Successfully uninstalled urllib3-1.24.3\n",
            "Successfully installed affine-2.4.0 boto3-1.26.59 botocore-1.29.59 click-plugins-1.1.1 cligj-0.7.2 jmespath-1.0.1 rasterio-1.3.5 s3transfer-0.6.0 snuggs-1.4.7 urllib3-1.26.14\n"
          ]
        },
        {
          "output_type": "display_data",
          "data": {
            "application/vnd.colab-display-data+json": {
              "pip_warning": {
                "packages": [
                  "urllib3"
                ]
              }
            }
          },
          "metadata": {}
        }
      ]
    },
    {
      "cell_type": "code",
      "source": [
        "%pip install awscli --ignore-installed six"
      ],
      "metadata": {
        "colab": {
          "base_uri": "https://localhost:8080/"
        },
        "id": "bwOp5C2xR-n9",
        "outputId": "ce741bac-8619-45d9-fe3a-0cd822368928"
      },
      "execution_count": null,
      "outputs": [
        {
          "output_type": "stream",
          "name": "stdout",
          "text": [
            "Looking in indexes: https://pypi.org/simple, https://us-python.pkg.dev/colab-wheels/public/simple/\n",
            "Collecting awscli\n",
            "  Downloading awscli-1.27.59-py3-none-any.whl (4.0 MB)\n",
            "\u001b[2K     \u001b[90m━━━━━━━━━━━━━━━━━━━━━━━━━━━━━━━━━━━━━━━━\u001b[0m \u001b[32m4.0/4.0 MB\u001b[0m \u001b[31m32.3 MB/s\u001b[0m eta \u001b[36m0:00:00\u001b[0m\n",
            "\u001b[?25hCollecting six\n",
            "  Downloading six-1.16.0-py2.py3-none-any.whl (11 kB)\n",
            "Collecting docutils<0.17,>=0.10\n",
            "  Downloading docutils-0.16-py2.py3-none-any.whl (548 kB)\n",
            "\u001b[2K     \u001b[90m━━━━━━━━━━━━━━━━━━━━━━━━━━━━━━━━━━━━━━\u001b[0m \u001b[32m548.2/548.2 KB\u001b[0m \u001b[31m40.4 MB/s\u001b[0m eta \u001b[36m0:00:00\u001b[0m\n",
            "\u001b[?25hCollecting PyYAML<5.5,>=3.10\n",
            "  Downloading PyYAML-5.4.1-cp38-cp38-manylinux1_x86_64.whl (662 kB)\n",
            "\u001b[2K     \u001b[90m━━━━━━━━━━━━━━━━━━━━━━━━━━━━━━━━━━━━━━\u001b[0m \u001b[32m662.4/662.4 KB\u001b[0m \u001b[31m40.9 MB/s\u001b[0m eta \u001b[36m0:00:00\u001b[0m\n",
            "\u001b[?25hCollecting colorama<0.4.5,>=0.2.5\n",
            "  Downloading colorama-0.4.4-py2.py3-none-any.whl (16 kB)\n",
            "Collecting botocore==1.29.59\n",
            "  Using cached botocore-1.29.59-py3-none-any.whl (10.4 MB)\n",
            "Collecting s3transfer<0.7.0,>=0.6.0\n",
            "  Using cached s3transfer-0.6.0-py3-none-any.whl (79 kB)\n",
            "Collecting rsa<4.8,>=3.1.2\n",
            "  Downloading rsa-4.7.2-py3-none-any.whl (34 kB)\n",
            "Collecting python-dateutil<3.0.0,>=2.1\n",
            "  Downloading python_dateutil-2.8.2-py2.py3-none-any.whl (247 kB)\n",
            "\u001b[2K     \u001b[90m━━━━━━━━━━━━━━━━━━━━━━━━━━━━━━━━━━━━━━\u001b[0m \u001b[32m247.7/247.7 KB\u001b[0m \u001b[31m20.8 MB/s\u001b[0m eta \u001b[36m0:00:00\u001b[0m\n",
            "\u001b[?25hCollecting jmespath<2.0.0,>=0.7.1\n",
            "  Using cached jmespath-1.0.1-py3-none-any.whl (20 kB)\n",
            "Collecting urllib3<1.27,>=1.25.4\n",
            "  Using cached urllib3-1.26.14-py2.py3-none-any.whl (140 kB)\n",
            "Collecting pyasn1>=0.1.3\n",
            "  Downloading pyasn1-0.4.8-py2.py3-none-any.whl (77 kB)\n",
            "\u001b[2K     \u001b[90m━━━━━━━━━━━━━━━━━━━━━━━━━━━━━━━━━━━━━━━━\u001b[0m \u001b[32m77.1/77.1 KB\u001b[0m \u001b[31m8.9 MB/s\u001b[0m eta \u001b[36m0:00:00\u001b[0m\n",
            "\u001b[?25hInstalling collected packages: pyasn1, urllib3, six, rsa, PyYAML, jmespath, docutils, colorama, python-dateutil, botocore, s3transfer, awscli\n",
            "\u001b[31mERROR: pip's dependency resolver does not currently take into account all the packages that are installed. This behaviour is the source of the following dependency conflicts.\n",
            "ipython 7.9.0 requires jedi>=0.10, which is not installed.\n",
            "sat-stac 0.4.1 requires python-dateutil~=2.7.5, but you have python-dateutil 2.8.2 which is incompatible.\u001b[0m\u001b[31m\n",
            "\u001b[0mSuccessfully installed PyYAML-6.0 awscli-1.27.59 botocore-1.29.59 colorama-0.4.4 docutils-0.16 jmespath-1.0.1 pyasn1-0.4.8 python-dateutil-2.8.2 rsa-4.9 s3transfer-0.6.0 six-1.16.0 urllib3-1.26.14\n"
          ]
        }
      ]
    },
    {
      "cell_type": "code",
      "source": [
        "# import os\n",
        "# import boto3\n",
        "# import rasterio as rio\n",
        "\n",
        "# os.environ['CURL_CA_BUNDLE'] = '/etc/ssl/certs/ca-certificates.crt'\n",
        "\n",
        "# print(\"Creating AWS Session\")\n",
        "# aws_session = rio.session.AWSSession(boto3.Session(), requester_pays=True)\n"
      ],
      "metadata": {
        "id": "z_BVr0CJQkgb"
      },
      "execution_count": null,
      "outputs": []
    },
    {
      "cell_type": "code",
      "source": [
        "!pip install pyproj"
      ],
      "metadata": {
        "colab": {
          "base_uri": "https://localhost:8080/"
        },
        "id": "6StYJytuSrU_",
        "outputId": "308cecf8-f621-45ac-87e3-3e57763a325b"
      },
      "execution_count": null,
      "outputs": [
        {
          "output_type": "stream",
          "name": "stdout",
          "text": [
            "Looking in indexes: https://pypi.org/simple, https://us-python.pkg.dev/colab-wheels/public/simple/\n",
            "Collecting pyproj\n",
            "  Downloading pyproj-3.4.1-cp38-cp38-manylinux_2_17_x86_64.manylinux2014_x86_64.whl (7.8 MB)\n",
            "\u001b[2K     \u001b[90m━━━━━━━━━━━━━━━━━━━━━━━━━━━━━━━━━━━━━━━━\u001b[0m \u001b[32m7.8/7.8 MB\u001b[0m \u001b[31m47.3 MB/s\u001b[0m eta \u001b[36m0:00:00\u001b[0m\n",
            "\u001b[?25hRequirement already satisfied: certifi in /usr/local/lib/python3.8/dist-packages (from pyproj) (2022.12.7)\n",
            "Installing collected packages: pyproj\n",
            "Successfully installed pyproj-3.4.1\n"
          ]
        }
      ]
    },
    {
      "cell_type": "code",
      "source": [
        "from pyproj import Transformer\n",
        "\n",
        "def getSubset(geotiff_file, bbox):\n",
        "    with rio.Env(aws_session):\n",
        "        with rio.open(geotiff_file) as geo_fp:\n",
        "            # Calculate pixels with PyProj \n",
        "            Transf = Transformer.from_crs(\"epsg:4326\", geo_fp.crs) \n",
        "            lat_north, lon_west = Transf.transform(bbox[3], bbox[0])\n",
        "            lat_south, lon_east = Transf.transform(bbox[1], bbox[2]) \n",
        "            x_top, y_top = geo_fp.index( lat_north, lon_west )\n",
        "            x_bottom, y_bottom = geo_fp.index( lat_south, lon_east )\n",
        "            # Define window in RasterIO\n",
        "            window = rio.windows.Window.from_slices( ( x_top, x_bottom ), ( y_top, y_bottom ) )                \n",
        "            # Actual HTTP range request\n",
        "            subset = geo_fp.read(1, window=window)\n",
        "    return subset"
      ],
      "metadata": {
        "id": "o1YYXqE0SUho"
      },
      "execution_count": null,
      "outputs": []
    },
    {
      "cell_type": "code",
      "source": [
        "def plotNDVI(nir,red,filename):\n",
        "    ndvi = (nir-red)/(nir+red)\n",
        "    ndvi[ndvi>1] = 1\n",
        "    plt.imshow(ndvi)\n",
        "    plt.savefig(filename)\n",
        "    plt.close()"
      ],
      "metadata": {
        "id": "2sBdvrKfSavk"
      },
      "execution_count": null,
      "outputs": []
    },
    {
      "cell_type": "code",
      "source": [
        "from rasterio.features import bounds\n",
        "import matplotlib.pyplot as plt\n",
        "\n",
        "bbox = bounds(geometry)\n",
        "\n",
        "for i,item in enumerate(Sentinel_items):\n",
        "    red_s3 = item.assets['B04']['href']\n",
        "    nir_s3 = item.assets['B08']['href']\n",
        "    date = item.properties['datetime'][0:10]\n",
        "    print(\"Sentinel item number \" + str(i) + \"/\" + str(len(Sentinel_items)) + \" \" + date)\n",
        "    red = getSubset(red_s3, bbox)\n",
        "    nir = getSubset(nir_s3, bbox)\n",
        "    plotNDVI(nir,red,\"sentinel/\" + date + \"_ndvi.png\")\n",
        "\n",
        "for i,item in enumerate(Landsat_items):\n",
        "    red_s3 = item['assets']['red']['alternate']['s3']['href']\n",
        "    nir_s3 = item['assets']['nir08']['alternate']['s3']['href']\n",
        "    date = item['properties']['datetime'][0:10]\n",
        "    print(\"Landsat item number \" + str(i) + \"/\" + str(len(Landsat_items)) + \" \" + date)\n",
        "    red = getSubset(red_s3, bbox)\n",
        "    nir = getSubset(nir_s3, bbox)\n",
        "    plotNDVI(nir,red,\"landsat/\" + date + \"_ndvi.png\")"
      ],
      "metadata": {
        "colab": {
          "base_uri": "https://localhost:8080/",
          "height": 375
        },
        "id": "2OIdt2TUSh1e",
        "outputId": "ecb835e2-993d-411f-e8c8-6b583c65ab8c"
      },
      "execution_count": null,
      "outputs": [
        {
          "output_type": "stream",
          "name": "stdout",
          "text": [
            "Sentinel item number 0/143 2021-05-28\n"
          ]
        },
        {
          "output_type": "error",
          "ename": "NameError",
          "evalue": "ignored",
          "traceback": [
            "\u001b[0;31m---------------------------------------------------------------------------\u001b[0m",
            "\u001b[0;31mNameError\u001b[0m                                 Traceback (most recent call last)",
            "\u001b[0;32m<ipython-input-20-a661557e8cab>\u001b[0m in \u001b[0;36m<module>\u001b[0;34m\u001b[0m\n\u001b[1;32m      9\u001b[0m     \u001b[0mdate\u001b[0m \u001b[0;34m=\u001b[0m \u001b[0mitem\u001b[0m\u001b[0;34m.\u001b[0m\u001b[0mproperties\u001b[0m\u001b[0;34m[\u001b[0m\u001b[0;34m'datetime'\u001b[0m\u001b[0;34m]\u001b[0m\u001b[0;34m[\u001b[0m\u001b[0;36m0\u001b[0m\u001b[0;34m:\u001b[0m\u001b[0;36m10\u001b[0m\u001b[0;34m]\u001b[0m\u001b[0;34m\u001b[0m\u001b[0;34m\u001b[0m\u001b[0m\n\u001b[1;32m     10\u001b[0m     \u001b[0mprint\u001b[0m\u001b[0;34m(\u001b[0m\u001b[0;34m\"Sentinel item number \"\u001b[0m \u001b[0;34m+\u001b[0m \u001b[0mstr\u001b[0m\u001b[0;34m(\u001b[0m\u001b[0mi\u001b[0m\u001b[0;34m)\u001b[0m \u001b[0;34m+\u001b[0m \u001b[0;34m\"/\"\u001b[0m \u001b[0;34m+\u001b[0m \u001b[0mstr\u001b[0m\u001b[0;34m(\u001b[0m\u001b[0mlen\u001b[0m\u001b[0;34m(\u001b[0m\u001b[0mSentinel_items\u001b[0m\u001b[0;34m)\u001b[0m\u001b[0;34m)\u001b[0m \u001b[0;34m+\u001b[0m \u001b[0;34m\" \"\u001b[0m \u001b[0;34m+\u001b[0m \u001b[0mdate\u001b[0m\u001b[0;34m)\u001b[0m\u001b[0;34m\u001b[0m\u001b[0;34m\u001b[0m\u001b[0m\n\u001b[0;32m---> 11\u001b[0;31m     \u001b[0mred\u001b[0m \u001b[0;34m=\u001b[0m \u001b[0mgetSubset\u001b[0m\u001b[0;34m(\u001b[0m\u001b[0mred_s3\u001b[0m\u001b[0;34m,\u001b[0m \u001b[0mbbox\u001b[0m\u001b[0;34m)\u001b[0m\u001b[0;34m\u001b[0m\u001b[0;34m\u001b[0m\u001b[0m\n\u001b[0m\u001b[1;32m     12\u001b[0m     \u001b[0mnir\u001b[0m \u001b[0;34m=\u001b[0m \u001b[0mgetSubset\u001b[0m\u001b[0;34m(\u001b[0m\u001b[0mnir_s3\u001b[0m\u001b[0;34m,\u001b[0m \u001b[0mbbox\u001b[0m\u001b[0;34m)\u001b[0m\u001b[0;34m\u001b[0m\u001b[0;34m\u001b[0m\u001b[0m\n\u001b[1;32m     13\u001b[0m     \u001b[0mplotNDVI\u001b[0m\u001b[0;34m(\u001b[0m\u001b[0mnir\u001b[0m\u001b[0;34m,\u001b[0m\u001b[0mred\u001b[0m\u001b[0;34m,\u001b[0m\u001b[0;34m\"sentinel/\"\u001b[0m \u001b[0;34m+\u001b[0m \u001b[0mdate\u001b[0m \u001b[0;34m+\u001b[0m \u001b[0;34m\"_ndvi.png\"\u001b[0m\u001b[0;34m)\u001b[0m\u001b[0;34m\u001b[0m\u001b[0;34m\u001b[0m\u001b[0m\n",
            "\u001b[0;32m<ipython-input-18-b425e4786fe8>\u001b[0m in \u001b[0;36mgetSubset\u001b[0;34m(geotiff_file, bbox)\u001b[0m\n\u001b[1;32m      2\u001b[0m \u001b[0;34m\u001b[0m\u001b[0m\n\u001b[1;32m      3\u001b[0m \u001b[0;32mdef\u001b[0m \u001b[0mgetSubset\u001b[0m\u001b[0;34m(\u001b[0m\u001b[0mgeotiff_file\u001b[0m\u001b[0;34m,\u001b[0m \u001b[0mbbox\u001b[0m\u001b[0;34m)\u001b[0m\u001b[0;34m:\u001b[0m\u001b[0;34m\u001b[0m\u001b[0;34m\u001b[0m\u001b[0m\n\u001b[0;32m----> 4\u001b[0;31m     \u001b[0;32mwith\u001b[0m \u001b[0mrio\u001b[0m\u001b[0;34m.\u001b[0m\u001b[0mEnv\u001b[0m\u001b[0;34m(\u001b[0m\u001b[0maws_session\u001b[0m\u001b[0;34m)\u001b[0m\u001b[0;34m:\u001b[0m\u001b[0;34m\u001b[0m\u001b[0;34m\u001b[0m\u001b[0m\n\u001b[0m\u001b[1;32m      5\u001b[0m         \u001b[0;32mwith\u001b[0m \u001b[0mrio\u001b[0m\u001b[0;34m.\u001b[0m\u001b[0mopen\u001b[0m\u001b[0;34m(\u001b[0m\u001b[0mgeotiff_file\u001b[0m\u001b[0;34m)\u001b[0m \u001b[0;32mas\u001b[0m \u001b[0mgeo_fp\u001b[0m\u001b[0;34m:\u001b[0m\u001b[0;34m\u001b[0m\u001b[0;34m\u001b[0m\u001b[0m\n\u001b[1;32m      6\u001b[0m             \u001b[0;31m# Calculate pixels with PyProj\u001b[0m\u001b[0;34m\u001b[0m\u001b[0;34m\u001b[0m\u001b[0;34m\u001b[0m\u001b[0m\n",
            "\u001b[0;31mNameError\u001b[0m: name 'rio' is not defined"
          ]
        }
      ]
    }
  ]
}